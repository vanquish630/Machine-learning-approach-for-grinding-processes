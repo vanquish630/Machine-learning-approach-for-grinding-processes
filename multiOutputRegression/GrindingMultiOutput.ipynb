{
 "cells": [
  {
   "cell_type": "code",
   "execution_count": 1,
   "metadata": {},
   "outputs": [],
   "source": [
    "import pandas as pd\n",
    "import numpy as np\n",
    "import matplotlib.pyplot as plt\n",
    "import seaborn as sns\n",
    "#https://giphy.com/gifs/life-programmer-ukMiDlCmdv2og"
   ]
  },
  {
   "cell_type": "code",
   "execution_count": 2,
   "metadata": {},
   "outputs": [],
   "source": [
    "df = pd.read_csv('../GrindingData.csv')"
   ]
  },
  {
   "cell_type": "code",
   "execution_count": 3,
   "metadata": {},
   "outputs": [
    {
     "data": {
      "text/html": [
       "<div>\n",
       "<style scoped>\n",
       "    .dataframe tbody tr th:only-of-type {\n",
       "        vertical-align: middle;\n",
       "    }\n",
       "\n",
       "    .dataframe tbody tr th {\n",
       "        vertical-align: top;\n",
       "    }\n",
       "\n",
       "    .dataframe thead th {\n",
       "        text-align: right;\n",
       "    }\n",
       "</style>\n",
       "<table border=\"1\" class=\"dataframe\">\n",
       "  <thead>\n",
       "    <tr style=\"text-align: right;\">\n",
       "      <th></th>\n",
       "      <th>Id</th>\n",
       "      <th>B</th>\n",
       "      <th>m</th>\n",
       "      <th>c</th>\n",
       "      <th>Vw</th>\n",
       "      <th>d</th>\n",
       "      <th>Ra</th>\n",
       "      <th>Fn</th>\n",
       "      <th>Pw</th>\n",
       "      <th>RaI</th>\n",
       "      <th>FnI</th>\n",
       "      <th>PwI</th>\n",
       "    </tr>\n",
       "  </thead>\n",
       "  <tbody>\n",
       "    <tr>\n",
       "      <th>0</th>\n",
       "      <td>1</td>\n",
       "      <td>Resin</td>\n",
       "      <td>80</td>\n",
       "      <td>50</td>\n",
       "      <td>2.9</td>\n",
       "      <td>1.47</td>\n",
       "      <td>0.88</td>\n",
       "      <td>43.4</td>\n",
       "      <td>209</td>\n",
       "      <td>35.00</td>\n",
       "      <td>248</td>\n",
       "      <td>7.12</td>\n",
       "    </tr>\n",
       "    <tr>\n",
       "      <th>1</th>\n",
       "      <td>2</td>\n",
       "      <td>Resin</td>\n",
       "      <td>80</td>\n",
       "      <td>50</td>\n",
       "      <td>2.9</td>\n",
       "      <td>1.47</td>\n",
       "      <td>0.86</td>\n",
       "      <td>45.3</td>\n",
       "      <td>224</td>\n",
       "      <td>33.86</td>\n",
       "      <td>259</td>\n",
       "      <td>7.63</td>\n",
       "    </tr>\n",
       "    <tr>\n",
       "      <th>2</th>\n",
       "      <td>3</td>\n",
       "      <td>Resin</td>\n",
       "      <td>180</td>\n",
       "      <td>50</td>\n",
       "      <td>2.9</td>\n",
       "      <td>2.59</td>\n",
       "      <td>0.83</td>\n",
       "      <td>66.2</td>\n",
       "      <td>329</td>\n",
       "      <td>32.68</td>\n",
       "      <td>378</td>\n",
       "      <td>11.21</td>\n",
       "    </tr>\n",
       "    <tr>\n",
       "      <th>3</th>\n",
       "      <td>4</td>\n",
       "      <td>Resin</td>\n",
       "      <td>180</td>\n",
       "      <td>50</td>\n",
       "      <td>2.9</td>\n",
       "      <td>2.59</td>\n",
       "      <td>0.84</td>\n",
       "      <td>66.3</td>\n",
       "      <td>344</td>\n",
       "      <td>33.07</td>\n",
       "      <td>379</td>\n",
       "      <td>11.72</td>\n",
       "    </tr>\n",
       "    <tr>\n",
       "      <th>4</th>\n",
       "      <td>5</td>\n",
       "      <td>Resin</td>\n",
       "      <td>80</td>\n",
       "      <td>100</td>\n",
       "      <td>2.9</td>\n",
       "      <td>2.59</td>\n",
       "      <td>0.86</td>\n",
       "      <td>64.2</td>\n",
       "      <td>314</td>\n",
       "      <td>33.86</td>\n",
       "      <td>367</td>\n",
       "      <td>10.70</td>\n",
       "    </tr>\n",
       "  </tbody>\n",
       "</table>\n",
       "</div>"
      ],
      "text/plain": [
       "   Id      B    m    c   Vw     d    Ra    Fn   Pw    RaI  FnI    PwI\n",
       "0   1  Resin   80   50  2.9  1.47  0.88  43.4  209  35.00  248   7.12\n",
       "1   2  Resin   80   50  2.9  1.47  0.86  45.3  224  33.86  259   7.63\n",
       "2   3  Resin  180   50  2.9  2.59  0.83  66.2  329  32.68  378  11.21\n",
       "3   4  Resin  180   50  2.9  2.59  0.84  66.3  344  33.07  379  11.72\n",
       "4   5  Resin   80  100  2.9  2.59  0.86  64.2  314  33.86  367  10.70"
      ]
     },
     "execution_count": 3,
     "metadata": {},
     "output_type": "execute_result"
    }
   ],
   "source": [
    "df.head()"
   ]
  },
  {
   "cell_type": "code",
   "execution_count": 4,
   "metadata": {},
   "outputs": [],
   "source": [
    "df['B'] = df['B'].map({'Resin':0,'Vitrified':1})"
   ]
  },
  {
   "cell_type": "code",
   "execution_count": null,
   "metadata": {},
   "outputs": [],
   "source": []
  },
  {
   "cell_type": "code",
   "execution_count": 5,
   "metadata": {},
   "outputs": [
    {
     "data": {
      "text/html": [
       "<div>\n",
       "<style scoped>\n",
       "    .dataframe tbody tr th:only-of-type {\n",
       "        vertical-align: middle;\n",
       "    }\n",
       "\n",
       "    .dataframe tbody tr th {\n",
       "        vertical-align: top;\n",
       "    }\n",
       "\n",
       "    .dataframe thead th {\n",
       "        text-align: right;\n",
       "    }\n",
       "</style>\n",
       "<table border=\"1\" class=\"dataframe\">\n",
       "  <thead>\n",
       "    <tr style=\"text-align: right;\">\n",
       "      <th></th>\n",
       "      <th>B</th>\n",
       "      <th>m</th>\n",
       "      <th>c</th>\n",
       "      <th>Vw</th>\n",
       "      <th>d</th>\n",
       "      <th>Ra</th>\n",
       "      <th>Fn</th>\n",
       "      <th>Pw</th>\n",
       "      <th>RaI</th>\n",
       "      <th>FnI</th>\n",
       "      <th>PwI</th>\n",
       "    </tr>\n",
       "  </thead>\n",
       "  <tbody>\n",
       "    <tr>\n",
       "      <th>0</th>\n",
       "      <td>0</td>\n",
       "      <td>80</td>\n",
       "      <td>50</td>\n",
       "      <td>2.9</td>\n",
       "      <td>1.47</td>\n",
       "      <td>0.88</td>\n",
       "      <td>43.4</td>\n",
       "      <td>209</td>\n",
       "      <td>35.00</td>\n",
       "      <td>248</td>\n",
       "      <td>7.12</td>\n",
       "    </tr>\n",
       "    <tr>\n",
       "      <th>2</th>\n",
       "      <td>0</td>\n",
       "      <td>180</td>\n",
       "      <td>50</td>\n",
       "      <td>2.9</td>\n",
       "      <td>2.59</td>\n",
       "      <td>0.83</td>\n",
       "      <td>66.2</td>\n",
       "      <td>329</td>\n",
       "      <td>32.68</td>\n",
       "      <td>378</td>\n",
       "      <td>11.21</td>\n",
       "    </tr>\n",
       "    <tr>\n",
       "      <th>4</th>\n",
       "      <td>0</td>\n",
       "      <td>80</td>\n",
       "      <td>100</td>\n",
       "      <td>2.9</td>\n",
       "      <td>2.59</td>\n",
       "      <td>0.86</td>\n",
       "      <td>64.2</td>\n",
       "      <td>314</td>\n",
       "      <td>33.86</td>\n",
       "      <td>367</td>\n",
       "      <td>10.70</td>\n",
       "    </tr>\n",
       "    <tr>\n",
       "      <th>6</th>\n",
       "      <td>0</td>\n",
       "      <td>180</td>\n",
       "      <td>100</td>\n",
       "      <td>2.9</td>\n",
       "      <td>1.47</td>\n",
       "      <td>0.67</td>\n",
       "      <td>55.5</td>\n",
       "      <td>224</td>\n",
       "      <td>26.38</td>\n",
       "      <td>317</td>\n",
       "      <td>7.63</td>\n",
       "    </tr>\n",
       "    <tr>\n",
       "      <th>8</th>\n",
       "      <td>0</td>\n",
       "      <td>80</td>\n",
       "      <td>50</td>\n",
       "      <td>6.9</td>\n",
       "      <td>2.59</td>\n",
       "      <td>0.91</td>\n",
       "      <td>95.6</td>\n",
       "      <td>599</td>\n",
       "      <td>35.83</td>\n",
       "      <td>546</td>\n",
       "      <td>20.40</td>\n",
       "    </tr>\n",
       "    <tr>\n",
       "      <th>10</th>\n",
       "      <td>0</td>\n",
       "      <td>180</td>\n",
       "      <td>50</td>\n",
       "      <td>6.9</td>\n",
       "      <td>1.47</td>\n",
       "      <td>0.85</td>\n",
       "      <td>74.9</td>\n",
       "      <td>374</td>\n",
       "      <td>33.46</td>\n",
       "      <td>428</td>\n",
       "      <td>12.74</td>\n",
       "    </tr>\n",
       "    <tr>\n",
       "      <th>12</th>\n",
       "      <td>0</td>\n",
       "      <td>80</td>\n",
       "      <td>100</td>\n",
       "      <td>6.9</td>\n",
       "      <td>1.47</td>\n",
       "      <td>0.89</td>\n",
       "      <td>68.6</td>\n",
       "      <td>329</td>\n",
       "      <td>35.04</td>\n",
       "      <td>392</td>\n",
       "      <td>11.21</td>\n",
       "    </tr>\n",
       "    <tr>\n",
       "      <th>14</th>\n",
       "      <td>0</td>\n",
       "      <td>180</td>\n",
       "      <td>100</td>\n",
       "      <td>6.9</td>\n",
       "      <td>2.59</td>\n",
       "      <td>0.71</td>\n",
       "      <td>109.6</td>\n",
       "      <td>658</td>\n",
       "      <td>27.95</td>\n",
       "      <td>626</td>\n",
       "      <td>22.41</td>\n",
       "    </tr>\n",
       "    <tr>\n",
       "      <th>16</th>\n",
       "      <td>1</td>\n",
       "      <td>80</td>\n",
       "      <td>50</td>\n",
       "      <td>2.9</td>\n",
       "      <td>2.59</td>\n",
       "      <td>0.87</td>\n",
       "      <td>36.8</td>\n",
       "      <td>150</td>\n",
       "      <td>34.25</td>\n",
       "      <td>210</td>\n",
       "      <td>5.11</td>\n",
       "    </tr>\n",
       "    <tr>\n",
       "      <th>18</th>\n",
       "      <td>1</td>\n",
       "      <td>180</td>\n",
       "      <td>50</td>\n",
       "      <td>2.9</td>\n",
       "      <td>1.47</td>\n",
       "      <td>0.57</td>\n",
       "      <td>30.5</td>\n",
       "      <td>108</td>\n",
       "      <td>22.44</td>\n",
       "      <td>174</td>\n",
       "      <td>3.68</td>\n",
       "    </tr>\n",
       "    <tr>\n",
       "      <th>20</th>\n",
       "      <td>1</td>\n",
       "      <td>80</td>\n",
       "      <td>100</td>\n",
       "      <td>2.9</td>\n",
       "      <td>1.47</td>\n",
       "      <td>0.81</td>\n",
       "      <td>27.3</td>\n",
       "      <td>105</td>\n",
       "      <td>31.89</td>\n",
       "      <td>156</td>\n",
       "      <td>3.58</td>\n",
       "    </tr>\n",
       "    <tr>\n",
       "      <th>22</th>\n",
       "      <td>1</td>\n",
       "      <td>180</td>\n",
       "      <td>100</td>\n",
       "      <td>2.9</td>\n",
       "      <td>2.59</td>\n",
       "      <td>0.84</td>\n",
       "      <td>27.3</td>\n",
       "      <td>144</td>\n",
       "      <td>33.07</td>\n",
       "      <td>156</td>\n",
       "      <td>4.90</td>\n",
       "    </tr>\n",
       "    <tr>\n",
       "      <th>24</th>\n",
       "      <td>1</td>\n",
       "      <td>80</td>\n",
       "      <td>50</td>\n",
       "      <td>6.9</td>\n",
       "      <td>1.47</td>\n",
       "      <td>0.92</td>\n",
       "      <td>41.5</td>\n",
       "      <td>194</td>\n",
       "      <td>36.22</td>\n",
       "      <td>237</td>\n",
       "      <td>6.61</td>\n",
       "    </tr>\n",
       "    <tr>\n",
       "      <th>26</th>\n",
       "      <td>1</td>\n",
       "      <td>180</td>\n",
       "      <td>50</td>\n",
       "      <td>6.9</td>\n",
       "      <td>2.59</td>\n",
       "      <td>0.62</td>\n",
       "      <td>80.3</td>\n",
       "      <td>374</td>\n",
       "      <td>24.41</td>\n",
       "      <td>459</td>\n",
       "      <td>12.74</td>\n",
       "    </tr>\n",
       "    <tr>\n",
       "      <th>28</th>\n",
       "      <td>1</td>\n",
       "      <td>80</td>\n",
       "      <td>100</td>\n",
       "      <td>6.9</td>\n",
       "      <td>2.59</td>\n",
       "      <td>0.88</td>\n",
       "      <td>60.7</td>\n",
       "      <td>269</td>\n",
       "      <td>34.65</td>\n",
       "      <td>347</td>\n",
       "      <td>9.16</td>\n",
       "    </tr>\n",
       "    <tr>\n",
       "      <th>30</th>\n",
       "      <td>1</td>\n",
       "      <td>180</td>\n",
       "      <td>100</td>\n",
       "      <td>6.9</td>\n",
       "      <td>1.47</td>\n",
       "      <td>0.85</td>\n",
       "      <td>34.0</td>\n",
       "      <td>179</td>\n",
       "      <td>33.46</td>\n",
       "      <td>194</td>\n",
       "      <td>6.10</td>\n",
       "    </tr>\n",
       "  </tbody>\n",
       "</table>\n",
       "</div>"
      ],
      "text/plain": [
       "    B    m    c   Vw     d    Ra     Fn   Pw    RaI  FnI    PwI\n",
       "0   0   80   50  2.9  1.47  0.88   43.4  209  35.00  248   7.12\n",
       "2   0  180   50  2.9  2.59  0.83   66.2  329  32.68  378  11.21\n",
       "4   0   80  100  2.9  2.59  0.86   64.2  314  33.86  367  10.70\n",
       "6   0  180  100  2.9  1.47  0.67   55.5  224  26.38  317   7.63\n",
       "8   0   80   50  6.9  2.59  0.91   95.6  599  35.83  546  20.40\n",
       "10  0  180   50  6.9  1.47  0.85   74.9  374  33.46  428  12.74\n",
       "12  0   80  100  6.9  1.47  0.89   68.6  329  35.04  392  11.21\n",
       "14  0  180  100  6.9  2.59  0.71  109.6  658  27.95  626  22.41\n",
       "16  1   80   50  2.9  2.59  0.87   36.8  150  34.25  210   5.11\n",
       "18  1  180   50  2.9  1.47  0.57   30.5  108  22.44  174   3.68\n",
       "20  1   80  100  2.9  1.47  0.81   27.3  105  31.89  156   3.58\n",
       "22  1  180  100  2.9  2.59  0.84   27.3  144  33.07  156   4.90\n",
       "24  1   80   50  6.9  1.47  0.92   41.5  194  36.22  237   6.61\n",
       "26  1  180   50  6.9  2.59  0.62   80.3  374  24.41  459  12.74\n",
       "28  1   80  100  6.9  2.59  0.88   60.7  269  34.65  347   9.16\n",
       "30  1  180  100  6.9  1.47  0.85   34.0  179  33.46  194   6.10"
      ]
     },
     "execution_count": 5,
     "metadata": {},
     "output_type": "execute_result"
    }
   ],
   "source": [
    "df = df.drop('Id',axis=1)\n",
    "df.iloc[::2]"
   ]
  },
  {
   "cell_type": "code",
   "execution_count": 6,
   "metadata": {},
   "outputs": [
    {
     "data": {
      "text/plain": [
       "(16, 11)"
      ]
     },
     "execution_count": 6,
     "metadata": {},
     "output_type": "execute_result"
    }
   ],
   "source": [
    "#df.describe().transpose()\n",
    "df.iloc[1::2].shape"
   ]
  },
  {
   "cell_type": "code",
   "execution_count": 7,
   "metadata": {},
   "outputs": [],
   "source": [
    "from sklearn.model_selection import train_test_split"
   ]
  },
  {
   "cell_type": "code",
   "execution_count": 8,
   "metadata": {},
   "outputs": [],
   "source": [
    "#df.drop([18,19,27],axis=0)\n",
    "#plt.figure(figsize=(12,8))\n",
    "#sns.boxplot(x='d',y='Ra',data = df)\n",
    "#sns.distplot(df['Ra'])"
   ]
  },
  {
   "cell_type": "code",
   "execution_count": 9,
   "metadata": {},
   "outputs": [
    {
     "name": "stdout",
     "output_type": "stream",
     "text": [
      "(16, 5)\n",
      "(4, 5)\n",
      "(12, 5)\n"
     ]
    }
   ],
   "source": [
    "# Convert Pandas to Numpy for Keras\n",
    "\n",
    "# Features\n",
    "X = df.drop(['RaI','Fn','Pw'],axis=1).values\n",
    "\n",
    "# Label\n",
    "y = df['RaI'].values\n",
    "\n",
    "# Split\n",
    "\n",
    "#X_train, X_test, y_train, y_test = train_test_split(X,y,test_size=0.3,random_state=42)\n",
    "X_train = df.drop(['Ra','Fn','Pw','RaI','FnI','PwI'],axis=1).iloc[::2]\n",
    "X_test = df.drop(['Ra','Fn','Pw','RaI','FnI','PwI'],axis=1).iloc[1::2]\n",
    "y_train = df[['Ra','Fn','Pw']].iloc[::2].values\n",
    "y_test = df[['Ra','Fn','Pw']].iloc[1::2].values\n",
    "X_val,X_test,y_val,y_test = train_test_split(X_test,y_test,test_size=0.2,random_state=42)\n",
    "\n",
    "print(X_train.shape)\n",
    "print(X_test.shape)\n",
    "print(X_val.shape)"
   ]
  },
  {
   "cell_type": "code",
   "execution_count": 10,
   "metadata": {},
   "outputs": [],
   "source": [
    "#Q1 = df.quantile(0.25)\n",
    "#Q3 = df.quantile(0.75)\n",
    "#IQR = Q3 - Q1\n",
    "#print(IQR)"
   ]
  },
  {
   "cell_type": "code",
   "execution_count": 11,
   "metadata": {},
   "outputs": [],
   "source": [
    "#df = df.drop([18,19,27],axis=0)"
   ]
  },
  {
   "cell_type": "code",
   "execution_count": 12,
   "metadata": {},
   "outputs": [],
   "source": [
    "#print((df < (Q1 - 1.5 * IQR)) |(df > (Q3 + 1.5 * IQR)))"
   ]
  },
  {
   "cell_type": "code",
   "execution_count": 13,
   "metadata": {},
   "outputs": [
    {
     "name": "stdout",
     "output_type": "stream",
     "text": [
      "[[6.000e-01 7.160e+01 3.590e+02]\n",
      " [8.300e-01 2.840e+01 1.490e+02]\n",
      " [8.700e-01 3.750e+01 1.650e+02]\n",
      " [5.700e-01 3.240e+01 1.080e+02]\n",
      " [8.800e-01 6.530e+01 3.140e+02]\n",
      " [8.600e-01 3.050e+01 1.680e+02]\n",
      " [9.000e-01 1.003e+02 5.840e+02]\n",
      " [7.000e-01 1.145e+02 6.430e+02]\n",
      " [7.900e-01 2.770e+01 1.050e+02]\n",
      " [8.900e-01 3.850e+01 1.790e+02]\n",
      " [6.800e-01 5.650e+01 2.390e+02]\n",
      " [8.900e-01 7.280e+01 3.440e+02]]\n"
     ]
    }
   ],
   "source": [
    "#plt.figure(figsize=(12,8))\n",
    "#sns.scatterplot(x='d',y='Ra',data = df,hue ='B')\n",
    "#sns.distplot(df['Ra'])\n",
    "print(y_val)"
   ]
  },
  {
   "cell_type": "code",
   "execution_count": 14,
   "metadata": {},
   "outputs": [
    {
     "data": {
      "text/plain": [
       "(16, 5)"
      ]
     },
     "execution_count": 14,
     "metadata": {},
     "output_type": "execute_result"
    }
   ],
   "source": [
    "X_train.shape"
   ]
  },
  {
   "cell_type": "code",
   "execution_count": 15,
   "metadata": {},
   "outputs": [
    {
     "data": {
      "text/plain": [
       "(12, 3)"
      ]
     },
     "execution_count": 15,
     "metadata": {},
     "output_type": "execute_result"
    }
   ],
   "source": [
    "y_val.shape"
   ]
  },
  {
   "cell_type": "code",
   "execution_count": 16,
   "metadata": {},
   "outputs": [],
   "source": [
    "from sklearn.preprocessing import MinMaxScaler"
   ]
  },
  {
   "cell_type": "code",
   "execution_count": 17,
   "metadata": {},
   "outputs": [],
   "source": [
    "scaler = MinMaxScaler()"
   ]
  },
  {
   "cell_type": "code",
   "execution_count": 18,
   "metadata": {},
   "outputs": [
    {
     "data": {
      "text/plain": [
       "MinMaxScaler(copy=True, feature_range=(0, 1))"
      ]
     },
     "execution_count": 18,
     "metadata": {},
     "output_type": "execute_result"
    }
   ],
   "source": [
    "scaler.fit(X_train)"
   ]
  },
  {
   "cell_type": "code",
   "execution_count": 19,
   "metadata": {},
   "outputs": [],
   "source": [
    "X_train = scaler.transform(X_train)\n",
    "X_val = scaler.transform(X_val)\n",
    "X_test = scaler.transform(X_test)"
   ]
  },
  {
   "cell_type": "code",
   "execution_count": 20,
   "metadata": {},
   "outputs": [
    {
     "data": {
      "text/plain": [
       "array([[0., 0., 0., 0., 0.],\n",
       "       [0., 1., 0., 0., 1.],\n",
       "       [0., 0., 1., 0., 1.],\n",
       "       [0., 1., 1., 0., 0.],\n",
       "       [0., 0., 0., 1., 1.],\n",
       "       [0., 1., 0., 1., 0.],\n",
       "       [0., 0., 1., 1., 0.],\n",
       "       [0., 1., 1., 1., 1.],\n",
       "       [1., 0., 0., 0., 1.],\n",
       "       [1., 1., 0., 0., 0.],\n",
       "       [1., 0., 1., 0., 0.],\n",
       "       [1., 1., 1., 0., 1.],\n",
       "       [1., 0., 0., 1., 0.],\n",
       "       [1., 1., 0., 1., 1.],\n",
       "       [1., 0., 1., 1., 1.],\n",
       "       [1., 1., 1., 1., 0.]])"
      ]
     },
     "execution_count": 20,
     "metadata": {},
     "output_type": "execute_result"
    }
   ],
   "source": [
    "#xlabels = ['B','m','c','Vw','d','Ra','Fn','Pw']\n",
    "#dfx = pd.DataFrame(X_train,columns=xlabels)\n",
    "X_train"
   ]
  },
  {
   "cell_type": "code",
   "execution_count": 21,
   "metadata": {},
   "outputs": [],
   "source": [
    "import tensorflow as tf"
   ]
  },
  {
   "cell_type": "code",
   "execution_count": 22,
   "metadata": {},
   "outputs": [],
   "source": [
    "from tensorflow.keras.models import Sequential, Model"
   ]
  },
  {
   "cell_type": "code",
   "execution_count": 23,
   "metadata": {},
   "outputs": [],
   "source": [
    "from tensorflow.keras.layers import Dense, Activation , Dropout , Input"
   ]
  },
  {
   "cell_type": "code",
   "execution_count": 24,
   "metadata": {},
   "outputs": [],
   "source": [
    "import tensorflow.keras.backend as K"
   ]
  },
  {
   "cell_type": "code",
   "execution_count": null,
   "metadata": {},
   "outputs": [],
   "source": []
  },
  {
   "cell_type": "code",
   "execution_count": 25,
   "metadata": {},
   "outputs": [],
   "source": [
    "# Create a loss function that adds the MSE loss to the mean of all squared activations of a specific layer\n",
    "#root_mean_square_error =  K.sqrt(K.mean(K.sum(K.square(y_pred - y_true))))\n",
    "#max_mae_mse =  K.maximum(K.mean(K.sum((y_pred - y_true))) , K.sqrt(K.mean(K.sum(K.square(y_pred - y_true)))))\n",
    "#loss = K.log(K.maximum(K.mean(K.sum((y_pred - y_true))) , K.sqrt(K.mean(K.sum(K.square(y_pred - y_true))))))\n",
    "#loss = K.abs(K.log((K.sqrt(K.mean(K.sum(K.square(y_pred - y_true)))))))*10\n",
    "#K.abs(K.log((K.sqrt(K.mean(K.sum(K.square(y_pred - y_true)))))/10))\n",
    "#def custom_loss(y_true,y_pred):\n",
    "#    loss =\n",
    "#    return loss\n",
    "\n",
    "                  "
   ]
  },
  {
   "cell_type": "code",
   "execution_count": 26,
   "metadata": {},
   "outputs": [],
   "source": [
    "model = Sequential()\n",
    "model.add(Dense(15,input_dim=5,activation='relu'))\n",
    "model.add(Dense(10,activation='relu'))\n",
    "model.add(Dense(10,activation='relu'))\n",
    "model.add(Dense(5,activation='relu'))\n",
    "model.add(Dense(5,activation='relu'))\n",
    "\n",
    "\n",
    "\n",
    "\n",
    "\n",
    "\n",
    "# Final output node for prediction\n",
    "model.add(Dense(3))\n",
    "\n",
    "model.compile(optimizer='adam',loss=[\"mape\"],metrics=[\"mape\"])"
   ]
  },
  {
   "cell_type": "code",
   "execution_count": 27,
   "metadata": {},
   "outputs": [],
   "source": [
    "from tensorflow.keras.callbacks import EarlyStopping\n",
    "early_stop = EarlyStopping(monitor='val_loss', verbose=1,patience=100)"
   ]
  },
  {
   "cell_type": "code",
   "execution_count": null,
   "metadata": {},
   "outputs": [
    {
     "name": "stdout",
     "output_type": "stream",
     "text": [
      "Train on 16 samples, validate on 12 samples\n",
      "Epoch 1/3000\n",
      "16/16 [==============================] - 1s 56ms/sample - loss: 91.9431 - mape: 91.9431 - val_loss: 90.3343 - val_mape: 90.3343\n",
      "Epoch 2/3000\n",
      "16/16 [==============================] - 0s 873us/sample - loss: 91.2383 - mape: 91.2383 - val_loss: 89.5964 - val_mape: 89.5964\n",
      "Epoch 3/3000\n",
      "16/16 [==============================] - 0s 623us/sample - loss: 90.5288 - mape: 90.5288 - val_loss: 88.8521 - val_mape: 88.8521\n",
      "Epoch 4/3000\n",
      "16/16 [==============================] - 0s 686us/sample - loss: 89.8123 - mape: 89.8123 - val_loss: 88.0845 - val_mape: 88.0845\n",
      "Epoch 5/3000\n",
      "16/16 [==============================] - 0s 748us/sample - loss: 89.0760 - mape: 89.0760 - val_loss: 87.2901 - val_mape: 87.2901\n",
      "Epoch 6/3000\n",
      "16/16 [==============================] - 0s 748us/sample - loss: 88.3163 - mape: 88.3163 - val_loss: 86.4698 - val_mape: 86.4698\n",
      "Epoch 7/3000\n",
      "16/16 [==============================] - 0s 748us/sample - loss: 87.5341 - mape: 87.5341 - val_loss: 85.6454 - val_mape: 85.6454\n",
      "Epoch 8/3000\n",
      "16/16 [==============================] - 0s 748us/sample - loss: 86.7276 - mape: 86.7276 - val_loss: 85.0019 - val_mape: 85.0019\n",
      "Epoch 9/3000\n",
      "16/16 [==============================] - 0s 748us/sample - loss: 85.9463 - mape: 85.9463 - val_loss: 84.3579 - val_mape: 84.3579\n",
      "Epoch 10/3000\n",
      "16/16 [==============================] - 0s 811us/sample - loss: 85.2805 - mape: 85.2805 - val_loss: 83.6950 - val_mape: 83.6950\n",
      "Epoch 11/3000\n",
      "16/16 [==============================] - 0s 748us/sample - loss: 84.5984 - mape: 84.5984 - val_loss: 83.0121 - val_mape: 83.0121\n",
      "Epoch 12/3000\n",
      "16/16 [==============================] - 0s 748us/sample - loss: 83.8983 - mape: 83.8983 - val_loss: 82.3162 - val_mape: 82.3162\n",
      "Epoch 13/3000\n",
      "16/16 [==============================] - 0s 686us/sample - loss: 83.1854 - mape: 83.1854 - val_loss: 81.5854 - val_mape: 81.5854\n",
      "Epoch 14/3000\n",
      "16/16 [==============================] - 0s 621us/sample - loss: 82.4450 - mape: 82.4450 - val_loss: 80.8446 - val_mape: 80.8446\n",
      "Epoch 15/3000\n",
      "16/16 [==============================] - 0s 810us/sample - loss: 81.6934 - mape: 81.6934 - val_loss: 80.1079 - val_mape: 80.1079\n",
      "Epoch 16/3000\n",
      "16/16 [==============================] - 0s 748us/sample - loss: 80.9299 - mape: 80.9299 - val_loss: 79.5704 - val_mape: 79.5704\n",
      "Epoch 17/3000\n",
      "16/16 [==============================] - 0s 686us/sample - loss: 80.2950 - mape: 80.2950 - val_loss: 79.1229 - val_mape: 79.1229\n",
      "Epoch 18/3000\n",
      "16/16 [==============================] - 0s 686us/sample - loss: 79.7655 - mape: 79.7655 - val_loss: 78.8094 - val_mape: 78.8094\n",
      "Epoch 19/3000\n",
      "16/16 [==============================] - 0s 748us/sample - loss: 79.3398 - mape: 79.3398 - val_loss: 78.5326 - val_mape: 78.5326\n",
      "Epoch 20/3000\n",
      "16/16 [==============================] - 0s 748us/sample - loss: 78.9127 - mape: 78.9127 - val_loss: 78.4226 - val_mape: 78.4226\n",
      "Epoch 21/3000\n",
      "16/16 [==============================] - 0s 748us/sample - loss: 78.6104 - mape: 78.6104 - val_loss: 78.3133 - val_mape: 78.3133\n",
      "Epoch 22/3000\n",
      "16/16 [==============================] - 0s 623us/sample - loss: 78.3426 - mape: 78.3426 - val_loss: 78.2005 - val_mape: 78.2005\n",
      "Epoch 23/3000\n",
      "16/16 [==============================] - 0s 748us/sample - loss: 78.0768 - mape: 78.0768 - val_loss: 78.0838 - val_mape: 78.0838\n",
      "Epoch 24/3000\n",
      "16/16 [==============================] - 0s 810us/sample - loss: 77.8117 - mape: 77.8117 - val_loss: 77.9652 - val_mape: 77.9652\n",
      "Epoch 25/3000\n",
      "16/16 [==============================] - 0s 748us/sample - loss: 77.5481 - mape: 77.5481 - val_loss: 77.8444 - val_mape: 77.8444\n",
      "Epoch 26/3000\n",
      "16/16 [==============================] - 0s 684us/sample - loss: 77.3218 - mape: 77.3218 - val_loss: 77.8049 - val_mape: 77.8049\n",
      "Epoch 27/3000\n",
      "16/16 [==============================] - 0s 748us/sample - loss: 77.3387 - mape: 77.3387 - val_loss: 77.9480 - val_mape: 77.9480\n",
      "Epoch 28/3000\n",
      "16/16 [==============================] - 0s 748us/sample - loss: 77.4177 - mape: 77.4177 - val_loss: 78.0724 - val_mape: 78.0724\n",
      "Epoch 29/3000\n",
      "16/16 [==============================] - 0s 748us/sample - loss: 77.4760 - mape: 77.4760 - val_loss: 78.1551 - val_mape: 78.1551\n",
      "Epoch 30/3000\n",
      "16/16 [==============================] - 0s 748us/sample - loss: 77.5092 - mape: 77.5092 - val_loss: 78.2008 - val_mape: 78.2008\n",
      "Epoch 31/3000\n",
      "16/16 [==============================] - 0s 623us/sample - loss: 77.5397 - mape: 77.5397 - val_loss: 78.2011 - val_mape: 78.2011\n",
      "Epoch 32/3000\n",
      "16/16 [==============================] - 0s 686us/sample - loss: 77.5505 - mape: 77.5505 - val_loss: 78.1557 - val_mape: 78.1557\n",
      "Epoch 33/3000\n",
      "16/16 [==============================] - 0s 748us/sample - loss: 77.5199 - mape: 77.5199 - val_loss: 78.0711 - val_mape: 78.0711\n",
      "Epoch 34/3000\n",
      "16/16 [==============================] - 0s 748us/sample - loss: 77.4537 - mape: 77.4537 - val_loss: 77.9558 - val_mape: 77.9558\n",
      "Epoch 35/3000\n",
      "16/16 [==============================] - 0s 686us/sample - loss: 77.3590 - mape: 77.3590 - val_loss: 77.8134 - val_mape: 77.8134\n",
      "Epoch 36/3000\n",
      "16/16 [==============================] - 0s 686us/sample - loss: 77.2391 - mape: 77.2391 - val_loss: 77.6485 - val_mape: 77.6485\n",
      "Epoch 37/3000\n",
      "16/16 [==============================] - 0s 686us/sample - loss: 77.1324 - mape: 77.1324 - val_loss: 77.4757 - val_mape: 77.4757\n",
      "Epoch 38/3000\n",
      "16/16 [==============================] - 0s 810us/sample - loss: 77.0220 - mape: 77.0220 - val_loss: 77.2957 - val_mape: 77.2957\n",
      "Epoch 39/3000\n",
      "16/16 [==============================] - 0s 686us/sample - loss: 76.9064 - mape: 76.9064 - val_loss: 77.1100 - val_mape: 77.1100\n",
      "Epoch 40/3000\n",
      "16/16 [==============================] - 0s 623us/sample - loss: 76.7864 - mape: 76.7864 - val_loss: 76.9198 - val_mape: 76.9198\n",
      "Epoch 41/3000\n",
      "16/16 [==============================] - 0s 561us/sample - loss: 76.6630 - mape: 76.6630 - val_loss: 76.7261 - val_mape: 76.7261\n",
      "Epoch 42/3000\n",
      "16/16 [==============================] - 0s 684us/sample - loss: 76.5369 - mape: 76.5369 - val_loss: 76.6749 - val_mape: 76.6749\n",
      "Epoch 43/3000\n",
      "16/16 [==============================] - 0s 686us/sample - loss: 76.4106 - mape: 76.4106 - val_loss: 76.6358 - val_mape: 76.6358\n",
      "Epoch 44/3000\n",
      "16/16 [==============================] - 0s 873us/sample - loss: 76.3986 - mape: 76.3986 - val_loss: 76.5955 - val_mape: 76.5955\n",
      "Epoch 45/3000\n",
      "16/16 [==============================] - 0s 684us/sample - loss: 76.3832 - mape: 76.3832 - val_loss: 76.5518 - val_mape: 76.5518\n",
      "Epoch 46/3000\n",
      "16/16 [==============================] - 0s 686us/sample - loss: 76.3607 - mape: 76.3607 - val_loss: 76.5044 - val_mape: 76.5044\n",
      "Epoch 47/3000\n",
      "16/16 [==============================] - 0s 748us/sample - loss: 76.3311 - mape: 76.3311 - val_loss: 76.4541 - val_mape: 76.4541\n",
      "Epoch 48/3000\n",
      "16/16 [==============================] - 0s 748us/sample - loss: 76.2956 - mape: 76.2956 - val_loss: 76.4012 - val_mape: 76.4012\n",
      "Epoch 49/3000\n",
      "16/16 [==============================] - 0s 748us/sample - loss: 76.2548 - mape: 76.2548 - val_loss: 76.3457 - val_mape: 76.3457\n",
      "Epoch 50/3000\n",
      "16/16 [==============================] - 0s 686us/sample - loss: 76.2091 - mape: 76.2091 - val_loss: 76.2880 - val_mape: 76.2880\n",
      "Epoch 51/3000\n",
      "16/16 [==============================] - 0s 684us/sample - loss: 76.1588 - mape: 76.1588 - val_loss: 76.2280 - val_mape: 76.2280\n",
      "Epoch 52/3000\n",
      "16/16 [==============================] - 0s 748us/sample - loss: 76.1043 - mape: 76.1043 - val_loss: 76.1660 - val_mape: 76.1660\n",
      "Epoch 53/3000\n",
      "16/16 [==============================] - 0s 686us/sample - loss: 76.0461 - mape: 76.0461 - val_loss: 76.1040 - val_mape: 76.1040\n",
      "Epoch 54/3000\n",
      "16/16 [==============================] - 0s 748us/sample - loss: 75.9857 - mape: 75.9857 - val_loss: 76.0411 - val_mape: 76.0411\n",
      "Epoch 55/3000\n",
      "16/16 [==============================] - 0s 748us/sample - loss: 75.9226 - mape: 75.9226 - val_loss: 75.9768 - val_mape: 75.9768\n",
      "Epoch 56/3000\n",
      "16/16 [==============================] - 0s 686us/sample - loss: 75.8566 - mape: 75.8566 - val_loss: 75.9111 - val_mape: 75.9111\n",
      "Epoch 57/3000\n",
      "16/16 [==============================] - 0s 808us/sample - loss: 75.7879 - mape: 75.7879 - val_loss: 75.8441 - val_mape: 75.8441\n",
      "Epoch 58/3000\n"
     ]
    },
    {
     "name": "stdout",
     "output_type": "stream",
     "text": [
      "16/16 [==============================] - 0s 686us/sample - loss: 75.7166 - mape: 75.7166 - val_loss: 75.7757 - val_mape: 75.7757\n",
      "Epoch 59/3000\n",
      "16/16 [==============================] - 0s 810us/sample - loss: 75.6427 - mape: 75.6427 - val_loss: 75.7062 - val_mape: 75.7062\n",
      "Epoch 60/3000\n",
      "16/16 [==============================] - 0s 746us/sample - loss: 75.5664 - mape: 75.5664 - val_loss: 75.6353 - val_mape: 75.6353\n",
      "Epoch 61/3000\n",
      "16/16 [==============================] - 0s 686us/sample - loss: 75.5103 - mape: 75.5103 - val_loss: 75.5673 - val_mape: 75.5673\n",
      "Epoch 62/3000\n",
      "16/16 [==============================] - 0s 746us/sample - loss: 75.4688 - mape: 75.4688 - val_loss: 75.5287 - val_mape: 75.5287\n",
      "Epoch 63/3000\n",
      "16/16 [==============================] - 0s 748us/sample - loss: 75.4249 - mape: 75.4249 - val_loss: 75.4936 - val_mape: 75.4936\n",
      "Epoch 64/3000\n",
      "16/16 [==============================] - 0s 810us/sample - loss: 75.3787 - mape: 75.3787 - val_loss: 75.4540 - val_mape: 75.4540\n",
      "Epoch 65/3000\n",
      "16/16 [==============================] - 0s 748us/sample - loss: 75.3305 - mape: 75.3305 - val_loss: 75.4103 - val_mape: 75.4103\n",
      "Epoch 66/3000\n",
      "16/16 [==============================] - 0s 686us/sample - loss: 75.2804 - mape: 75.2804 - val_loss: 75.3646 - val_mape: 75.3646\n",
      "Epoch 67/3000\n",
      "16/16 [==============================] - 0s 748us/sample - loss: 75.2299 - mape: 75.2299 - val_loss: 75.3201 - val_mape: 75.3201\n",
      "Epoch 68/3000\n",
      "16/16 [==============================] - 0s 748us/sample - loss: 75.1815 - mape: 75.1815 - val_loss: 75.2725 - val_mape: 75.2725\n",
      "Epoch 69/3000\n",
      "16/16 [==============================] - 0s 873us/sample - loss: 75.1317 - mape: 75.1317 - val_loss: 75.2220 - val_mape: 75.2220\n",
      "Epoch 70/3000\n",
      "16/16 [==============================] - 0s 748us/sample - loss: 75.0807 - mape: 75.0807 - val_loss: 75.1691 - val_mape: 75.1691\n",
      "Epoch 71/3000\n",
      "16/16 [==============================] - 0s 810us/sample - loss: 75.0285 - mape: 75.0285 - val_loss: 75.1139 - val_mape: 75.1139\n",
      "Epoch 72/3000\n",
      "16/16 [==============================] - 0s 748us/sample - loss: 74.9753 - mape: 74.9753 - val_loss: 75.0567 - val_mape: 75.0567\n",
      "Epoch 73/3000\n",
      "16/16 [==============================] - 0s 810us/sample - loss: 74.9212 - mape: 74.9212 - val_loss: 74.9979 - val_mape: 74.9979\n",
      "Epoch 74/3000\n",
      "16/16 [==============================] - 0s 684us/sample - loss: 74.8677 - mape: 74.8677 - val_loss: 74.9400 - val_mape: 74.9400\n",
      "Epoch 75/3000\n",
      "16/16 [==============================] - 0s 810us/sample - loss: 74.8162 - mape: 74.8162 - val_loss: 74.8805 - val_mape: 74.8805\n",
      "Epoch 76/3000\n",
      "16/16 [==============================] - 0s 686us/sample - loss: 74.7640 - mape: 74.7640 - val_loss: 74.8198 - val_mape: 74.8198\n",
      "Epoch 77/3000\n",
      "16/16 [==============================] - 0s 686us/sample - loss: 74.7112 - mape: 74.7112 - val_loss: 74.7578 - val_mape: 74.7578\n",
      "Epoch 78/3000\n",
      "16/16 [==============================] - 0s 686us/sample - loss: 74.6577 - mape: 74.6577 - val_loss: 74.7004 - val_mape: 74.7004\n",
      "Epoch 79/3000\n",
      "16/16 [==============================] - 0s 686us/sample - loss: 74.6040 - mape: 74.6040 - val_loss: 74.6563 - val_mape: 74.6563\n",
      "Epoch 80/3000\n",
      "16/16 [==============================] - 0s 746us/sample - loss: 74.5499 - mape: 74.5499 - val_loss: 74.6121 - val_mape: 74.6121\n",
      "Epoch 81/3000\n",
      "16/16 [==============================] - 0s 686us/sample - loss: 74.4954 - mape: 74.4954 - val_loss: 74.5679 - val_mape: 74.5679\n",
      "Epoch 82/3000\n",
      "16/16 [==============================] - 0s 623us/sample - loss: 74.4404 - mape: 74.4404 - val_loss: 74.5230 - val_mape: 74.5230\n",
      "Epoch 83/3000\n",
      "16/16 [==============================] - 0s 746us/sample - loss: 74.3896 - mape: 74.3896 - val_loss: 74.4713 - val_mape: 74.4713\n",
      "Epoch 84/3000\n",
      "16/16 [==============================] - 0s 748us/sample - loss: 74.3414 - mape: 74.3414 - val_loss: 74.4136 - val_mape: 74.4136\n",
      "Epoch 85/3000\n",
      "16/16 [==============================] - 0s 686us/sample - loss: 74.2853 - mape: 74.2853 - val_loss: 74.3508 - val_mape: 74.3508\n",
      "Epoch 86/3000\n",
      "16/16 [==============================] - 0s 748us/sample - loss: 74.2244 - mape: 74.2244 - val_loss: 74.2896 - val_mape: 74.2896\n",
      "Epoch 87/3000\n",
      "16/16 [==============================] - 0s 686us/sample - loss: 74.1716 - mape: 74.1716 - val_loss: 74.2318 - val_mape: 74.2318\n",
      "Epoch 88/3000\n",
      "16/16 [==============================] - 0s 748us/sample - loss: 74.1193 - mape: 74.1193 - val_loss: 74.1752 - val_mape: 74.1752\n",
      "Epoch 89/3000\n",
      "16/16 [==============================] - 0s 686us/sample - loss: 74.0659 - mape: 74.0659 - val_loss: 74.1185 - val_mape: 74.1185\n",
      "Epoch 90/3000\n",
      "16/16 [==============================] - 0s 683us/sample - loss: 74.0105 - mape: 74.0105 - val_loss: 74.0637 - val_mape: 74.0637\n",
      "Epoch 91/3000\n",
      "16/16 [==============================] - 0s 686us/sample - loss: 73.9547 - mape: 73.9547 - val_loss: 74.0102 - val_mape: 74.0102\n",
      "Epoch 92/3000\n",
      "16/16 [==============================] - 0s 748us/sample - loss: 73.9046 - mape: 73.9046 - val_loss: 73.9610 - val_mape: 73.9610\n",
      "Epoch 93/3000\n",
      "16/16 [==============================] - 0s 810us/sample - loss: 73.8480 - mape: 73.8480 - val_loss: 73.9153 - val_mape: 73.9153\n",
      "Epoch 94/3000\n",
      "16/16 [==============================] - 0s 686us/sample - loss: 73.7983 - mape: 73.7983 - val_loss: 73.8649 - val_mape: 73.8649\n",
      "Epoch 95/3000\n",
      "16/16 [==============================] - 0s 686us/sample - loss: 73.7494 - mape: 73.7494 - val_loss: 73.8135 - val_mape: 73.8135\n",
      "Epoch 96/3000\n",
      "16/16 [==============================] - 0s 686us/sample - loss: 73.6980 - mape: 73.6980 - val_loss: 73.7561 - val_mape: 73.7561\n",
      "Epoch 97/3000\n",
      "16/16 [==============================] - 0s 748us/sample - loss: 73.6443 - mape: 73.6443 - val_loss: 73.6968 - val_mape: 73.6968\n",
      "Epoch 98/3000\n",
      "16/16 [==============================] - 0s 748us/sample - loss: 73.5945 - mape: 73.5945 - val_loss: 73.6384 - val_mape: 73.6384\n",
      "Epoch 99/3000\n",
      "16/16 [==============================] - 0s 686us/sample - loss: 73.5412 - mape: 73.5412 - val_loss: 73.5803 - val_mape: 73.5803\n",
      "Epoch 100/3000\n",
      "16/16 [==============================] - 0s 686us/sample - loss: 73.4838 - mape: 73.4838 - val_loss: 73.5297 - val_mape: 73.5297\n",
      "Epoch 101/3000\n",
      "16/16 [==============================] - 0s 685us/sample - loss: 73.4316 - mape: 73.4316 - val_loss: 73.4715 - val_mape: 73.4715\n",
      "Epoch 102/3000\n",
      "16/16 [==============================] - 0s 746us/sample - loss: 73.3828 - mape: 73.3828 - val_loss: 73.4066 - val_mape: 73.4066\n",
      "Epoch 103/3000\n",
      "16/16 [==============================] - 0s 686us/sample - loss: 73.3285 - mape: 73.3285 - val_loss: 73.3432 - val_mape: 73.3432\n",
      "Epoch 104/3000\n",
      "16/16 [==============================] - 0s 811us/sample - loss: 73.2791 - mape: 73.2791 - val_loss: 73.2811 - val_mape: 73.2811\n",
      "Epoch 105/3000\n",
      "16/16 [==============================] - 0s 684us/sample - loss: 73.2283 - mape: 73.2283 - val_loss: 73.2199 - val_mape: 73.2199\n",
      "Epoch 106/3000\n",
      "16/16 [==============================] - 0s 623us/sample - loss: 73.1802 - mape: 73.1802 - val_loss: 73.1617 - val_mape: 73.1617\n",
      "Epoch 107/3000\n",
      "16/16 [==============================] - 0s 623us/sample - loss: 73.1252 - mape: 73.1252 - val_loss: 73.1069 - val_mape: 73.1069\n",
      "Epoch 108/3000\n",
      "16/16 [==============================] - 0s 810us/sample - loss: 73.0725 - mape: 73.0725 - val_loss: 73.0527 - val_mape: 73.0527\n",
      "Epoch 109/3000\n",
      "16/16 [==============================] - 0s 686us/sample - loss: 73.0197 - mape: 73.0197 - val_loss: 72.9986 - val_mape: 72.9986\n",
      "Epoch 110/3000\n",
      "16/16 [==============================] - 0s 686us/sample - loss: 72.9727 - mape: 72.9727 - val_loss: 72.9365 - val_mape: 72.9365\n",
      "Epoch 111/3000\n",
      "16/16 [==============================] - 0s 686us/sample - loss: 72.9164 - mape: 72.9164 - val_loss: 72.8672 - val_mape: 72.8672\n",
      "Epoch 112/3000\n",
      "16/16 [==============================] - 0s 810us/sample - loss: 72.8564 - mape: 72.8564 - val_loss: 72.7991 - val_mape: 72.7991\n",
      "Epoch 113/3000\n",
      "16/16 [==============================] - 0s 810us/sample - loss: 72.8010 - mape: 72.8010 - val_loss: 72.7361 - val_mape: 72.7361\n",
      "Epoch 114/3000\n",
      "16/16 [==============================] - 0s 748us/sample - loss: 72.7481 - mape: 72.7481 - val_loss: 72.6781 - val_mape: 72.6781\n",
      "Epoch 115/3000\n",
      "16/16 [==============================] - 0s 748us/sample - loss: 72.6914 - mape: 72.6914 - val_loss: 72.6193 - val_mape: 72.6193\n"
     ]
    },
    {
     "name": "stdout",
     "output_type": "stream",
     "text": [
      "Epoch 116/3000\n",
      "16/16 [==============================] - 0s 622us/sample - loss: 72.6360 - mape: 72.6360 - val_loss: 72.5601 - val_mape: 72.5601\n",
      "Epoch 117/3000\n",
      "16/16 [==============================] - 0s 748us/sample - loss: 72.5790 - mape: 72.5790 - val_loss: 72.5017 - val_mape: 72.5017\n",
      "Epoch 118/3000\n",
      "16/16 [==============================] - 0s 748us/sample - loss: 72.5232 - mape: 72.5232 - val_loss: 72.4347 - val_mape: 72.4347\n",
      "Epoch 119/3000\n",
      "16/16 [==============================] - 0s 748us/sample - loss: 72.4703 - mape: 72.4703 - val_loss: 72.3712 - val_mape: 72.3712\n",
      "Epoch 120/3000\n",
      "16/16 [==============================] - 0s 748us/sample - loss: 72.4190 - mape: 72.4190 - val_loss: 72.3182 - val_mape: 72.3182\n",
      "Epoch 121/3000\n",
      "16/16 [==============================] - 0s 683us/sample - loss: 72.3621 - mape: 72.3621 - val_loss: 72.2537 - val_mape: 72.2537\n",
      "Epoch 122/3000\n",
      "16/16 [==============================] - 0s 686us/sample - loss: 72.3083 - mape: 72.3083 - val_loss: 72.1865 - val_mape: 72.1865\n",
      "Epoch 123/3000\n",
      "16/16 [==============================] - 0s 748us/sample - loss: 72.2518 - mape: 72.2518 - val_loss: 72.1201 - val_mape: 72.1201\n",
      "Epoch 124/3000\n",
      "16/16 [==============================] - 0s 686us/sample - loss: 72.1940 - mape: 72.1940 - val_loss: 72.0510 - val_mape: 72.0510\n",
      "Epoch 125/3000\n",
      "16/16 [==============================] - 0s 810us/sample - loss: 72.1326 - mape: 72.1326 - val_loss: 71.9805 - val_mape: 71.9805\n",
      "Epoch 126/3000\n",
      "16/16 [==============================] - 0s 748us/sample - loss: 72.0746 - mape: 72.0746 - val_loss: 71.9107 - val_mape: 71.9107\n",
      "Epoch 127/3000\n",
      "16/16 [==============================] - 0s 748us/sample - loss: 72.0212 - mape: 72.0212 - val_loss: 71.8444 - val_mape: 71.8444\n",
      "Epoch 128/3000\n",
      "16/16 [==============================] - 0s 686us/sample - loss: 71.9630 - mape: 71.9630 - val_loss: 71.7811 - val_mape: 71.7811\n",
      "Epoch 129/3000\n",
      "16/16 [==============================] - 0s 810us/sample - loss: 71.9069 - mape: 71.9069 - val_loss: 71.7165 - val_mape: 71.7165\n",
      "Epoch 130/3000\n",
      "16/16 [==============================] - 0s 686us/sample - loss: 71.8494 - mape: 71.8494 - val_loss: 71.6511 - val_mape: 71.6511\n",
      "Epoch 131/3000\n",
      "16/16 [==============================] - 0s 686us/sample - loss: 71.7907 - mape: 71.7907 - val_loss: 71.5765 - val_mape: 71.5765\n",
      "Epoch 132/3000\n",
      "16/16 [==============================] - 0s 810us/sample - loss: 71.7287 - mape: 71.7287 - val_loss: 71.5023 - val_mape: 71.5023\n",
      "Epoch 133/3000\n",
      "16/16 [==============================] - 0s 748us/sample - loss: 71.6664 - mape: 71.6664 - val_loss: 71.4329 - val_mape: 71.4329\n",
      "Epoch 134/3000\n",
      "16/16 [==============================] - 0s 686us/sample - loss: 71.6086 - mape: 71.6086 - val_loss: 71.3721 - val_mape: 71.3721\n",
      "Epoch 135/3000\n",
      "16/16 [==============================] - 0s 686us/sample - loss: 71.5408 - mape: 71.5408 - val_loss: 71.3005 - val_mape: 71.3005\n",
      "Epoch 136/3000\n",
      "16/16 [==============================] - 0s 746us/sample - loss: 71.4768 - mape: 71.4768 - val_loss: 71.2297 - val_mape: 71.2297\n",
      "Epoch 137/3000\n",
      "16/16 [==============================] - 0s 686us/sample - loss: 71.4181 - mape: 71.4181 - val_loss: 71.1602 - val_mape: 71.1602\n",
      "Epoch 138/3000\n",
      "16/16 [==============================] - 0s 748us/sample - loss: 71.3559 - mape: 71.3559 - val_loss: 71.0827 - val_mape: 71.0827\n",
      "Epoch 139/3000\n",
      "16/16 [==============================] - 0s 748us/sample - loss: 71.2911 - mape: 71.2911 - val_loss: 71.0058 - val_mape: 71.0058\n",
      "Epoch 140/3000\n",
      "16/16 [==============================] - 0s 686us/sample - loss: 71.2238 - mape: 71.2238 - val_loss: 70.9217 - val_mape: 70.9217\n",
      "Epoch 141/3000\n",
      "16/16 [==============================] - 0s 810us/sample - loss: 71.1540 - mape: 71.1540 - val_loss: 70.8492 - val_mape: 70.8492\n",
      "Epoch 142/3000\n",
      "16/16 [==============================] - 0s 684us/sample - loss: 71.0966 - mape: 71.0966 - val_loss: 70.7658 - val_mape: 70.7658\n",
      "Epoch 143/3000\n",
      "16/16 [==============================] - 0s 935us/sample - loss: 71.0278 - mape: 71.0278 - val_loss: 70.6705 - val_mape: 70.6705\n",
      "Epoch 144/3000\n",
      "16/16 [==============================] - 0s 873us/sample - loss: 70.9553 - mape: 70.9553 - val_loss: 70.5748 - val_mape: 70.5748\n",
      "Epoch 145/3000\n",
      "16/16 [==============================] - 0s 935us/sample - loss: 70.9009 - mape: 70.9009 - val_loss: 70.4952 - val_mape: 70.4952\n",
      "Epoch 146/3000\n",
      "16/16 [==============================] - 0s 935us/sample - loss: 70.8339 - mape: 70.8339 - val_loss: 70.4288 - val_mape: 70.4288\n",
      "Epoch 147/3000\n",
      "16/16 [==============================] - 0s 873us/sample - loss: 70.7508 - mape: 70.7508 - val_loss: 70.3679 - val_mape: 70.3679\n",
      "Epoch 148/3000\n",
      "16/16 [==============================] - 0s 935us/sample - loss: 70.6836 - mape: 70.6836 - val_loss: 70.2934 - val_mape: 70.2934\n",
      "Epoch 149/3000\n",
      "16/16 [==============================] - 0s 686us/sample - loss: 70.6144 - mape: 70.6144 - val_loss: 70.2065 - val_mape: 70.2065\n",
      "Epoch 150/3000\n",
      "16/16 [==============================] - 0s 686us/sample - loss: 70.5300 - mape: 70.5300 - val_loss: 70.1210 - val_mape: 70.1210\n",
      "Epoch 151/3000\n",
      "16/16 [==============================] - 0s 748us/sample - loss: 70.5074 - mape: 70.5074 - val_loss: 70.0447 - val_mape: 70.0447\n",
      "Epoch 152/3000\n",
      "16/16 [==============================] - 0s 686us/sample - loss: 70.4173 - mape: 70.4173 - val_loss: 69.9934 - val_mape: 69.9934\n",
      "Epoch 153/3000\n",
      "16/16 [==============================] - 0s 623us/sample - loss: 70.3578 - mape: 70.3578 - val_loss: 69.9388 - val_mape: 69.9388\n",
      "Epoch 154/3000\n",
      "16/16 [==============================] - 0s 748us/sample - loss: 70.2982 - mape: 70.2982 - val_loss: 69.8782 - val_mape: 69.8782\n",
      "Epoch 155/3000\n",
      "16/16 [==============================] - 0s 748us/sample - loss: 70.2307 - mape: 70.2307 - val_loss: 69.8122 - val_mape: 69.8122\n",
      "Epoch 156/3000\n",
      "16/16 [==============================] - 0s 748us/sample - loss: 70.1559 - mape: 70.1559 - val_loss: 69.7415 - val_mape: 69.7415\n",
      "Epoch 157/3000\n",
      "16/16 [==============================] - 0s 686us/sample - loss: 70.0743 - mape: 70.0743 - val_loss: 69.6658 - val_mape: 69.6658\n",
      "Epoch 158/3000\n",
      "16/16 [==============================] - 0s 748us/sample - loss: 69.9933 - mape: 69.9933 - val_loss: 69.5984 - val_mape: 69.5984\n",
      "Epoch 159/3000\n",
      "16/16 [==============================] - 0s 748us/sample - loss: 69.9179 - mape: 69.9179 - val_loss: 69.5399 - val_mape: 69.5399\n",
      "Epoch 160/3000\n",
      "16/16 [==============================] - 0s 623us/sample - loss: 69.8425 - mape: 69.8425 - val_loss: 69.5000 - val_mape: 69.5000\n",
      "Epoch 161/3000\n",
      "16/16 [==============================] - 0s 748us/sample - loss: 69.7541 - mape: 69.7541 - val_loss: 69.4486 - val_mape: 69.4486\n",
      "Epoch 162/3000\n",
      "16/16 [==============================] - 0s 748us/sample - loss: 69.6825 - mape: 69.6825 - val_loss: 69.3763 - val_mape: 69.3763\n",
      "Epoch 163/3000\n",
      "16/16 [==============================] - 0s 748us/sample - loss: 69.5983 - mape: 69.5983 - val_loss: 69.2943 - val_mape: 69.2943\n",
      "Epoch 164/3000\n",
      "16/16 [==============================] - 0s 686us/sample - loss: 69.5203 - mape: 69.5203 - val_loss: 69.2089 - val_mape: 69.2089\n",
      "Epoch 165/3000\n",
      "16/16 [==============================] - 0s 748us/sample - loss: 69.4439 - mape: 69.4439 - val_loss: 69.1465 - val_mape: 69.1465\n",
      "Epoch 166/3000\n",
      "16/16 [==============================] - 0s 623us/sample - loss: 69.3472 - mape: 69.3472 - val_loss: 69.0689 - val_mape: 69.0689\n",
      "Epoch 167/3000\n",
      "16/16 [==============================] - 0s 748us/sample - loss: 69.2635 - mape: 69.2635 - val_loss: 68.9710 - val_mape: 68.9710\n",
      "Epoch 168/3000\n",
      "16/16 [==============================] - 0s 748us/sample - loss: 69.1986 - mape: 69.1986 - val_loss: 68.8820 - val_mape: 68.8820\n",
      "Epoch 169/3000\n",
      "16/16 [==============================] - 0s 873us/sample - loss: 69.1360 - mape: 69.1360 - val_loss: 68.7952 - val_mape: 68.7952\n",
      "Epoch 170/3000\n",
      "16/16 [==============================] - 0s 873us/sample - loss: 69.0762 - mape: 69.0762 - val_loss: 68.7234 - val_mape: 68.7234\n",
      "Epoch 171/3000\n",
      "16/16 [==============================] - 0s 685us/sample - loss: 69.0132 - mape: 69.0132 - val_loss: 68.6507 - val_mape: 68.6507\n",
      "Epoch 172/3000\n",
      "16/16 [==============================] - 0s 810us/sample - loss: 68.9478 - mape: 68.9478 - val_loss: 68.5743 - val_mape: 68.5743\n"
     ]
    },
    {
     "name": "stdout",
     "output_type": "stream",
     "text": [
      "Epoch 173/3000\n",
      "16/16 [==============================] - 0s 686us/sample - loss: 68.8854 - mape: 68.8854 - val_loss: 68.4821 - val_mape: 68.4821\n",
      "Epoch 174/3000\n",
      "16/16 [==============================] - 0s 748us/sample - loss: 68.8186 - mape: 68.8186 - val_loss: 68.3959 - val_mape: 68.3959\n",
      "Epoch 175/3000\n",
      "16/16 [==============================] - 0s 686us/sample - loss: 68.7512 - mape: 68.7512 - val_loss: 68.3299 - val_mape: 68.3299\n",
      "Epoch 176/3000\n",
      "16/16 [==============================] - 0s 810us/sample - loss: 68.6829 - mape: 68.6829 - val_loss: 68.2689 - val_mape: 68.2689\n",
      "Epoch 177/3000\n",
      "16/16 [==============================] - 0s 748us/sample - loss: 68.6091 - mape: 68.6091 - val_loss: 68.2133 - val_mape: 68.2133\n",
      "Epoch 178/3000\n",
      "16/16 [==============================] - 0s 810us/sample - loss: 68.5288 - mape: 68.5288 - val_loss: 68.1624 - val_mape: 68.1624\n",
      "Epoch 179/3000\n",
      "16/16 [==============================] - 0s 686us/sample - loss: 68.4671 - mape: 68.4671 - val_loss: 68.1003 - val_mape: 68.1003\n",
      "Epoch 180/3000\n",
      "16/16 [==============================] - 0s 685us/sample - loss: 68.3945 - mape: 68.3945 - val_loss: 68.0263 - val_mape: 68.0263\n",
      "Epoch 181/3000\n",
      "16/16 [==============================] - 0s 873us/sample - loss: 68.3088 - mape: 68.3088 - val_loss: 67.9408 - val_mape: 67.9408\n",
      "Epoch 182/3000\n",
      "16/16 [==============================] - 0s 686us/sample - loss: 68.2271 - mape: 68.2271 - val_loss: 67.8716 - val_mape: 67.8716\n",
      "Epoch 183/3000\n",
      "16/16 [==============================] - 0s 810us/sample - loss: 68.1684 - mape: 68.1684 - val_loss: 67.8090 - val_mape: 67.8090\n",
      "Epoch 184/3000\n",
      "16/16 [==============================] - 0s 748us/sample - loss: 68.0910 - mape: 68.0910 - val_loss: 67.7419 - val_mape: 67.7419\n",
      "Epoch 185/3000\n",
      "16/16 [==============================] - 0s 686us/sample - loss: 68.0061 - mape: 68.0061 - val_loss: 67.7132 - val_mape: 67.7132\n",
      "Epoch 186/3000\n",
      "16/16 [==============================] - 0s 748us/sample - loss: 68.0008 - mape: 68.0008 - val_loss: 67.6792 - val_mape: 67.6792\n",
      "Epoch 187/3000\n",
      "16/16 [==============================] - 0s 748us/sample - loss: 67.9584 - mape: 67.9584 - val_loss: 67.6243 - val_mape: 67.6243\n",
      "Epoch 188/3000\n",
      "16/16 [==============================] - 0s 873us/sample - loss: 67.8840 - mape: 67.8840 - val_loss: 67.5581 - val_mape: 67.5581\n",
      "Epoch 189/3000\n",
      "16/16 [==============================] - 0s 686us/sample - loss: 67.8553 - mape: 67.8553 - val_loss: 67.5017 - val_mape: 67.5017\n",
      "Epoch 190/3000\n",
      "16/16 [==============================] - 0s 748us/sample - loss: 67.8430 - mape: 67.8430 - val_loss: 67.4573 - val_mape: 67.4573\n",
      "Epoch 191/3000\n",
      "16/16 [==============================] - 0s 686us/sample - loss: 67.7767 - mape: 67.7767 - val_loss: 67.4226 - val_mape: 67.4226\n",
      "Epoch 192/3000\n",
      "16/16 [==============================] - 0s 748us/sample - loss: 67.6715 - mape: 67.6715 - val_loss: 67.4303 - val_mape: 67.4303\n",
      "Epoch 193/3000\n",
      "16/16 [==============================] - 0s 810us/sample - loss: 67.6696 - mape: 67.6696 - val_loss: 67.3904 - val_mape: 67.3904\n",
      "Epoch 194/3000\n",
      "16/16 [==============================] - 0s 748us/sample - loss: 67.6383 - mape: 67.6383 - val_loss: 67.3129 - val_mape: 67.3129\n",
      "Epoch 195/3000\n",
      "16/16 [==============================] - 0s 748us/sample - loss: 67.5602 - mape: 67.5602 - val_loss: 67.2460 - val_mape: 67.2460\n",
      "Epoch 196/3000\n",
      "16/16 [==============================] - 0s 686us/sample - loss: 67.4921 - mape: 67.4921 - val_loss: 67.2096 - val_mape: 67.2096\n",
      "Epoch 197/3000\n",
      "16/16 [==============================] - 0s 810us/sample - loss: 67.4747 - mape: 67.4747 - val_loss: 67.1747 - val_mape: 67.1747\n",
      "Epoch 198/3000\n",
      "16/16 [==============================] - 0s 748us/sample - loss: 67.4449 - mape: 67.4449 - val_loss: 67.1150 - val_mape: 67.1150\n",
      "Epoch 199/3000\n",
      "16/16 [==============================] - 0s 748us/sample - loss: 67.3622 - mape: 67.3622 - val_loss: 67.0829 - val_mape: 67.0829\n",
      "Epoch 200/3000\n",
      "16/16 [==============================] - 0s 686us/sample - loss: 67.3474 - mape: 67.3474 - val_loss: 67.0342 - val_mape: 67.0342\n",
      "Epoch 201/3000\n",
      "16/16 [==============================] - 0s 748us/sample - loss: 67.2955 - mape: 67.2955 - val_loss: 67.0566 - val_mape: 67.0566\n",
      "Epoch 202/3000\n",
      "16/16 [==============================] - 0s 810us/sample - loss: 67.2817 - mape: 67.2817 - val_loss: 67.0479 - val_mape: 67.0479\n",
      "Epoch 203/3000\n",
      "16/16 [==============================] - 0s 686us/sample - loss: 67.2537 - mape: 67.2537 - val_loss: 66.9791 - val_mape: 66.9791\n",
      "Epoch 204/3000\n",
      "16/16 [==============================] - 0s 748us/sample - loss: 67.1849 - mape: 67.1849 - val_loss: 66.9206 - val_mape: 66.9206\n",
      "Epoch 205/3000\n",
      "16/16 [==============================] - 0s 873us/sample - loss: 67.1634 - mape: 67.1634 - val_loss: 66.8979 - val_mape: 66.8979\n",
      "Epoch 206/3000\n",
      "16/16 [==============================] - 0s 686us/sample - loss: 67.1233 - mape: 67.1233 - val_loss: 66.8912 - val_mape: 66.8912\n",
      "Epoch 207/3000\n",
      "16/16 [==============================] - 0s 748us/sample - loss: 67.0669 - mape: 67.0669 - val_loss: 66.8943 - val_mape: 66.8943\n",
      "Epoch 208/3000\n",
      "16/16 [==============================] - 0s 686us/sample - loss: 67.0506 - mape: 67.0506 - val_loss: 66.8300 - val_mape: 66.8300\n",
      "Epoch 209/3000\n",
      "16/16 [==============================] - 0s 748us/sample - loss: 66.9948 - mape: 66.9948 - val_loss: 66.7927 - val_mape: 66.7927\n",
      "Epoch 210/3000\n",
      "16/16 [==============================] - 0s 748us/sample - loss: 66.9772 - mape: 66.9772 - val_loss: 66.7481 - val_mape: 66.7481\n",
      "Epoch 211/3000\n",
      "16/16 [==============================] - 0s 686us/sample - loss: 66.9408 - mape: 66.9408 - val_loss: 66.7288 - val_mape: 66.7288\n",
      "Epoch 212/3000\n",
      "16/16 [==============================] - 0s 748us/sample - loss: 66.9156 - mape: 66.9156 - val_loss: 66.6964 - val_mape: 66.6964\n",
      "Epoch 213/3000\n",
      "16/16 [==============================] - 0s 748us/sample - loss: 66.8830 - mape: 66.8830 - val_loss: 66.6320 - val_mape: 66.6320\n",
      "Epoch 214/3000\n",
      "16/16 [==============================] - 0s 686us/sample - loss: 66.8247 - mape: 66.8247 - val_loss: 66.5917 - val_mape: 66.5917\n",
      "Epoch 215/3000\n",
      "16/16 [==============================] - 0s 748us/sample - loss: 66.8003 - mape: 66.8003 - val_loss: 66.5671 - val_mape: 66.5671\n",
      "Epoch 216/3000\n",
      "16/16 [==============================] - 0s 810us/sample - loss: 66.7607 - mape: 66.7607 - val_loss: 66.5532 - val_mape: 66.5532\n",
      "Epoch 217/3000\n",
      "16/16 [==============================] - 0s 873us/sample - loss: 66.7071 - mape: 66.7071 - val_loss: 66.5319 - val_mape: 66.5319\n",
      "Epoch 218/3000\n",
      "16/16 [==============================] - 0s 686us/sample - loss: 66.6923 - mape: 66.6923 - val_loss: 66.4996 - val_mape: 66.4996\n",
      "Epoch 219/3000\n",
      "16/16 [==============================] - 0s 748us/sample - loss: 66.6695 - mape: 66.6695 - val_loss: 66.4668 - val_mape: 66.4668\n",
      "Epoch 220/3000\n",
      "16/16 [==============================] - 0s 686us/sample - loss: 66.6433 - mape: 66.6433 - val_loss: 66.4114 - val_mape: 66.4114\n",
      "Epoch 221/3000\n",
      "16/16 [==============================] - 0s 748us/sample - loss: 66.5740 - mape: 66.5740 - val_loss: 66.4044 - val_mape: 66.4044\n",
      "Epoch 222/3000\n",
      "16/16 [==============================] - 0s 810us/sample - loss: 66.5971 - mape: 66.5971 - val_loss: 66.3401 - val_mape: 66.3401\n",
      "Epoch 223/3000\n",
      "16/16 [==============================] - 0s 748us/sample - loss: 66.5221 - mape: 66.5221 - val_loss: 66.3167 - val_mape: 66.3167\n",
      "Epoch 224/3000\n",
      "16/16 [==============================] - 0s 748us/sample - loss: 66.5252 - mape: 66.5252 - val_loss: 66.2831 - val_mape: 66.2831\n",
      "Epoch 225/3000\n",
      "16/16 [==============================] - 0s 686us/sample - loss: 66.5048 - mape: 66.5048 - val_loss: 66.2188 - val_mape: 66.2188\n",
      "Epoch 226/3000\n",
      "16/16 [==============================] - 0s 686us/sample - loss: 66.4282 - mape: 66.4282 - val_loss: 66.2427 - val_mape: 66.2427\n",
      "Epoch 227/3000\n",
      "16/16 [==============================] - 0s 686us/sample - loss: 66.4217 - mape: 66.4217 - val_loss: 66.1961 - val_mape: 66.1961\n",
      "Epoch 228/3000\n",
      "16/16 [==============================] - 0s 623us/sample - loss: 66.3630 - mape: 66.3630 - val_loss: 66.1527 - val_mape: 66.1527\n",
      "Epoch 229/3000\n",
      "16/16 [==============================] - 0s 810us/sample - loss: 66.2976 - mape: 66.2976 - val_loss: 66.1379 - val_mape: 66.1379\n"
     ]
    },
    {
     "name": "stdout",
     "output_type": "stream",
     "text": [
      "Epoch 230/3000\n",
      "16/16 [==============================] - 0s 623us/sample - loss: 66.2908 - mape: 66.2908 - val_loss: 66.1615 - val_mape: 66.1615\n"
     ]
    }
   ],
   "source": [
    "model.fit(X_train,y_train,epochs=3000,callbacks=[early_stop]\n",
    ",validation_data =(X_val,y_val),verbose=1)"
   ]
  },
  {
   "cell_type": "code",
   "execution_count": null,
   "metadata": {
    "scrolled": true
   },
   "outputs": [],
   "source": [
    "loss = pd.DataFrame(model.history.history)\n",
    "loss.plot()"
   ]
  },
  {
   "cell_type": "code",
   "execution_count": 38,
   "metadata": {},
   "outputs": [
    {
     "name": "stdout",
     "output_type": "stream",
     "text": [
      "Model: \"sequential_2\"\n",
      "_________________________________________________________________\n",
      "Layer (type)                 Output Shape              Param #   \n",
      "=================================================================\n",
      "dense_12 (Dense)             (None, 15)                90        \n",
      "_________________________________________________________________\n",
      "dense_13 (Dense)             (None, 10)                160       \n",
      "_________________________________________________________________\n",
      "dense_14 (Dense)             (None, 10)                110       \n",
      "_________________________________________________________________\n",
      "dense_15 (Dense)             (None, 5)                 55        \n",
      "_________________________________________________________________\n",
      "dense_16 (Dense)             (None, 5)                 30        \n",
      "_________________________________________________________________\n",
      "dense_17 (Dense)             (None, 3)                 18        \n",
      "=================================================================\n",
      "Total params: 463\n",
      "Trainable params: 463\n",
      "Non-trainable params: 0\n",
      "_________________________________________________________________\n",
      "None\n"
     ]
    },
    {
     "data": {
      "image/png": "[encoded data removed]",
      "text/plain": [
       "<Figure size 432x288 with 1 Axes>"
      ]
     },
     "metadata": {
      "needs_background": "light"
     },
     "output_type": "display_data"
    }
   ],
   "source": [
    "sns.lineplot(x=range(len(loss)),y=loss[\"loss\"])\n",
    "plt.title(\"Training Loss per Epoch\");\n",
    "print(model.summary())"
   ]
  },
  {
   "cell_type": "code",
   "execution_count": 39,
   "metadata": {},
   "outputs": [],
   "source": [
    "training_score = model.evaluate(X_train,y_train,verbose=0)\n",
    "val_score = model.evaluate(X_val,y_val,verbose=0)"
   ]
  },
  {
   "cell_type": "code",
   "execution_count": 40,
   "metadata": {},
   "outputs": [
    {
     "data": {
      "text/plain": [
       "[6.202270984649658, 6.202271]"
      ]
     },
     "execution_count": 40,
     "metadata": {},
     "output_type": "execute_result"
    }
   ],
   "source": [
    "val_score"
   ]
  },
  {
   "cell_type": "code",
   "execution_count": 41,
   "metadata": {},
   "outputs": [
    {
     "data": {
      "text/plain": [
       "[4.338141441345215, 4.3381414]"
      ]
     },
     "execution_count": 41,
     "metadata": {},
     "output_type": "execute_result"
    }
   ],
   "source": [
    "training_score"
   ]
  },
  {
   "cell_type": "code",
   "execution_count": 42,
   "metadata": {},
   "outputs": [],
   "source": [
    "test_predictions = model.predict(X_val)"
   ]
  },
  {
   "cell_type": "code",
   "execution_count": 43,
   "metadata": {},
   "outputs": [
    {
     "data": {
      "text/html": [
       "<div>\n",
       "<style scoped>\n",
       "    .dataframe tbody tr th:only-of-type {\n",
       "        vertical-align: middle;\n",
       "    }\n",
       "\n",
       "    .dataframe tbody tr th {\n",
       "        vertical-align: top;\n",
       "    }\n",
       "\n",
       "    .dataframe thead th {\n",
       "        text-align: right;\n",
       "    }\n",
       "</style>\n",
       "<table border=\"1\" class=\"dataframe\">\n",
       "  <thead>\n",
       "    <tr style=\"text-align: right;\">\n",
       "      <th></th>\n",
       "      <th>Ra</th>\n",
       "      <th>Fn</th>\n",
       "      <th>Pw</th>\n",
       "    </tr>\n",
       "  </thead>\n",
       "  <tbody>\n",
       "    <tr>\n",
       "      <th>0</th>\n",
       "      <td>0.60</td>\n",
       "      <td>71.6</td>\n",
       "      <td>359.0</td>\n",
       "    </tr>\n",
       "    <tr>\n",
       "      <th>1</th>\n",
       "      <td>0.83</td>\n",
       "      <td>28.4</td>\n",
       "      <td>149.0</td>\n",
       "    </tr>\n",
       "    <tr>\n",
       "      <th>2</th>\n",
       "      <td>0.87</td>\n",
       "      <td>37.5</td>\n",
       "      <td>165.0</td>\n",
       "    </tr>\n",
       "    <tr>\n",
       "      <th>3</th>\n",
       "      <td>0.57</td>\n",
       "      <td>32.4</td>\n",
       "      <td>108.0</td>\n",
       "    </tr>\n",
       "    <tr>\n",
       "      <th>4</th>\n",
       "      <td>0.88</td>\n",
       "      <td>65.3</td>\n",
       "      <td>314.0</td>\n",
       "    </tr>\n",
       "    <tr>\n",
       "      <th>5</th>\n",
       "      <td>0.86</td>\n",
       "      <td>30.5</td>\n",
       "      <td>168.0</td>\n",
       "    </tr>\n",
       "    <tr>\n",
       "      <th>6</th>\n",
       "      <td>0.90</td>\n",
       "      <td>100.3</td>\n",
       "      <td>584.0</td>\n",
       "    </tr>\n",
       "    <tr>\n",
       "      <th>7</th>\n",
       "      <td>0.70</td>\n",
       "      <td>114.5</td>\n",
       "      <td>643.0</td>\n",
       "    </tr>\n",
       "    <tr>\n",
       "      <th>8</th>\n",
       "      <td>0.79</td>\n",
       "      <td>27.7</td>\n",
       "      <td>105.0</td>\n",
       "    </tr>\n",
       "    <tr>\n",
       "      <th>9</th>\n",
       "      <td>0.89</td>\n",
       "      <td>38.5</td>\n",
       "      <td>179.0</td>\n",
       "    </tr>\n",
       "    <tr>\n",
       "      <th>10</th>\n",
       "      <td>0.68</td>\n",
       "      <td>56.5</td>\n",
       "      <td>239.0</td>\n",
       "    </tr>\n",
       "    <tr>\n",
       "      <th>11</th>\n",
       "      <td>0.89</td>\n",
       "      <td>72.8</td>\n",
       "      <td>344.0</td>\n",
       "    </tr>\n",
       "  </tbody>\n",
       "</table>\n",
       "</div>"
      ],
      "text/plain": [
       "      Ra     Fn     Pw\n",
       "0   0.60   71.6  359.0\n",
       "1   0.83   28.4  149.0\n",
       "2   0.87   37.5  165.0\n",
       "3   0.57   32.4  108.0\n",
       "4   0.88   65.3  314.0\n",
       "5   0.86   30.5  168.0\n",
       "6   0.90  100.3  584.0\n",
       "7   0.70  114.5  643.0\n",
       "8   0.79   27.7  105.0\n",
       "9   0.89   38.5  179.0\n",
       "10  0.68   56.5  239.0\n",
       "11  0.89   72.8  344.0"
      ]
     },
     "execution_count": 43,
     "metadata": {},
     "output_type": "execute_result"
    }
   ],
   "source": [
    "pred_df = pd.DataFrame(y_val)\n",
    "pred_df.columns = ['Ra','Fn','Pw']\n",
    "pred_df"
   ]
  },
  {
   "cell_type": "code",
   "execution_count": 44,
   "metadata": {},
   "outputs": [],
   "source": [
    "test_predictions = pd.DataFrame(test_predictions)"
   ]
  },
  {
   "cell_type": "code",
   "execution_count": 45,
   "metadata": {},
   "outputs": [
    {
     "data": {
      "text/html": [
       "<div>\n",
       "<style scoped>\n",
       "    .dataframe tbody tr th:only-of-type {\n",
       "        vertical-align: middle;\n",
       "    }\n",
       "\n",
       "    .dataframe tbody tr th {\n",
       "        vertical-align: top;\n",
       "    }\n",
       "\n",
       "    .dataframe thead th {\n",
       "        text-align: right;\n",
       "    }\n",
       "</style>\n",
       "<table border=\"1\" class=\"dataframe\">\n",
       "  <thead>\n",
       "    <tr style=\"text-align: right;\">\n",
       "      <th></th>\n",
       "      <th>Ra</th>\n",
       "      <th>Fn</th>\n",
       "      <th>Pw</th>\n",
       "    </tr>\n",
       "  </thead>\n",
       "  <tbody>\n",
       "    <tr>\n",
       "      <th>0</th>\n",
       "      <td>0.60</td>\n",
       "      <td>71.6</td>\n",
       "      <td>359.0</td>\n",
       "    </tr>\n",
       "    <tr>\n",
       "      <th>1</th>\n",
       "      <td>0.83</td>\n",
       "      <td>28.4</td>\n",
       "      <td>149.0</td>\n",
       "    </tr>\n",
       "    <tr>\n",
       "      <th>2</th>\n",
       "      <td>0.87</td>\n",
       "      <td>37.5</td>\n",
       "      <td>165.0</td>\n",
       "    </tr>\n",
       "    <tr>\n",
       "      <th>3</th>\n",
       "      <td>0.57</td>\n",
       "      <td>32.4</td>\n",
       "      <td>108.0</td>\n",
       "    </tr>\n",
       "    <tr>\n",
       "      <th>4</th>\n",
       "      <td>0.88</td>\n",
       "      <td>65.3</td>\n",
       "      <td>314.0</td>\n",
       "    </tr>\n",
       "    <tr>\n",
       "      <th>5</th>\n",
       "      <td>0.86</td>\n",
       "      <td>30.5</td>\n",
       "      <td>168.0</td>\n",
       "    </tr>\n",
       "    <tr>\n",
       "      <th>6</th>\n",
       "      <td>0.90</td>\n",
       "      <td>100.3</td>\n",
       "      <td>584.0</td>\n",
       "    </tr>\n",
       "    <tr>\n",
       "      <th>7</th>\n",
       "      <td>0.70</td>\n",
       "      <td>114.5</td>\n",
       "      <td>643.0</td>\n",
       "    </tr>\n",
       "    <tr>\n",
       "      <th>8</th>\n",
       "      <td>0.79</td>\n",
       "      <td>27.7</td>\n",
       "      <td>105.0</td>\n",
       "    </tr>\n",
       "    <tr>\n",
       "      <th>9</th>\n",
       "      <td>0.89</td>\n",
       "      <td>38.5</td>\n",
       "      <td>179.0</td>\n",
       "    </tr>\n",
       "    <tr>\n",
       "      <th>10</th>\n",
       "      <td>0.68</td>\n",
       "      <td>56.5</td>\n",
       "      <td>239.0</td>\n",
       "    </tr>\n",
       "    <tr>\n",
       "      <th>11</th>\n",
       "      <td>0.89</td>\n",
       "      <td>72.8</td>\n",
       "      <td>344.0</td>\n",
       "    </tr>\n",
       "  </tbody>\n",
       "</table>\n",
       "</div>"
      ],
      "text/plain": [
       "      Ra     Fn     Pw\n",
       "0   0.60   71.6  359.0\n",
       "1   0.83   28.4  149.0\n",
       "2   0.87   37.5  165.0\n",
       "3   0.57   32.4  108.0\n",
       "4   0.88   65.3  314.0\n",
       "5   0.86   30.5  168.0\n",
       "6   0.90  100.3  584.0\n",
       "7   0.70  114.5  643.0\n",
       "8   0.79   27.7  105.0\n",
       "9   0.89   38.5  179.0\n",
       "10  0.68   56.5  239.0\n",
       "11  0.89   72.8  344.0"
      ]
     },
     "execution_count": 45,
     "metadata": {},
     "output_type": "execute_result"
    }
   ],
   "source": [
    " pred_df"
   ]
  },
  {
   "cell_type": "code",
   "execution_count": 46,
   "metadata": {},
   "outputs": [],
   "source": [
    "pred_df = pd.concat([pred_df,test_predictions],axis=1)"
   ]
  },
  {
   "cell_type": "code",
   "execution_count": 47,
   "metadata": {},
   "outputs": [
    {
     "data": {
      "text/plain": [
       "12"
      ]
     },
     "execution_count": 47,
     "metadata": {},
     "output_type": "execute_result"
    }
   ],
   "source": [
    "pred_df[\"Ra\"].values.size"
   ]
  },
  {
   "cell_type": "code",
   "execution_count": 48,
   "metadata": {},
   "outputs": [],
   "source": [
    "pred_df.columns = ['Ra','Fn','Pw','Predicted Ra','Predicted Fn','Predicted Pw']"
   ]
  },
  {
   "cell_type": "code",
   "execution_count": 49,
   "metadata": {},
   "outputs": [],
   "source": [
    "pred_df['Error'] =abs( pred_df['Ra'] - pred_df['Predicted Ra'])/pred_df['Ra'] + abs(pred_df['Fn'] - pred_df['Predicted Fn'])/pred_df['Fn'] + abs(pred_df['Pw'] - pred_df['Predicted Pw'])/pred_df['Pw']\n",
    "pred_df['Error'] = pred_df['Error']*100/3"
   ]
  },
  {
   "cell_type": "code",
   "execution_count": 50,
   "metadata": {},
   "outputs": [
    {
     "data": {
      "text/html": [
       "<div>\n",
       "<style scoped>\n",
       "    .dataframe tbody tr th:only-of-type {\n",
       "        vertical-align: middle;\n",
       "    }\n",
       "\n",
       "    .dataframe tbody tr th {\n",
       "        vertical-align: top;\n",
       "    }\n",
       "\n",
       "    .dataframe thead th {\n",
       "        text-align: right;\n",
       "    }\n",
       "</style>\n",
       "<table border=\"1\" class=\"dataframe\">\n",
       "  <thead>\n",
       "    <tr style=\"text-align: right;\">\n",
       "      <th></th>\n",
       "      <th>Ra</th>\n",
       "      <th>Fn</th>\n",
       "      <th>Pw</th>\n",
       "      <th>Predicted Ra</th>\n",
       "      <th>Predicted Fn</th>\n",
       "      <th>Predicted Pw</th>\n",
       "      <th>Error</th>\n",
       "    </tr>\n",
       "  </thead>\n",
       "  <tbody>\n",
       "    <tr>\n",
       "      <th>0</th>\n",
       "      <td>0.60</td>\n",
       "      <td>71.6</td>\n",
       "      <td>359.0</td>\n",
       "      <td>0.647803</td>\n",
       "      <td>77.721695</td>\n",
       "      <td>374.924500</td>\n",
       "      <td>6.984249</td>\n",
       "    </tr>\n",
       "    <tr>\n",
       "      <th>1</th>\n",
       "      <td>0.83</td>\n",
       "      <td>28.4</td>\n",
       "      <td>149.0</td>\n",
       "      <td>0.838506</td>\n",
       "      <td>27.447483</td>\n",
       "      <td>129.352661</td>\n",
       "      <td>5.854961</td>\n",
       "    </tr>\n",
       "    <tr>\n",
       "      <th>2</th>\n",
       "      <td>0.87</td>\n",
       "      <td>37.5</td>\n",
       "      <td>165.0</td>\n",
       "      <td>0.863156</td>\n",
       "      <td>35.482216</td>\n",
       "      <td>168.254822</td>\n",
       "      <td>2.713349</td>\n",
       "    </tr>\n",
       "    <tr>\n",
       "      <th>3</th>\n",
       "      <td>0.57</td>\n",
       "      <td>32.4</td>\n",
       "      <td>108.0</td>\n",
       "      <td>0.569545</td>\n",
       "      <td>22.742264</td>\n",
       "      <td>108.162567</td>\n",
       "      <td>10.012734</td>\n",
       "    </tr>\n",
       "    <tr>\n",
       "      <th>4</th>\n",
       "      <td>0.88</td>\n",
       "      <td>65.3</td>\n",
       "      <td>314.0</td>\n",
       "      <td>0.881220</td>\n",
       "      <td>65.440376</td>\n",
       "      <td>313.766449</td>\n",
       "      <td>0.142644</td>\n",
       "    </tr>\n",
       "    <tr>\n",
       "      <th>5</th>\n",
       "      <td>0.86</td>\n",
       "      <td>30.5</td>\n",
       "      <td>168.0</td>\n",
       "      <td>0.861573</td>\n",
       "      <td>34.966358</td>\n",
       "      <td>165.757172</td>\n",
       "      <td>5.387258</td>\n",
       "    </tr>\n",
       "    <tr>\n",
       "      <th>6</th>\n",
       "      <td>0.90</td>\n",
       "      <td>100.3</td>\n",
       "      <td>584.0</td>\n",
       "      <td>0.919699</td>\n",
       "      <td>96.775574</td>\n",
       "      <td>465.844116</td>\n",
       "      <td>8.644956</td>\n",
       "    </tr>\n",
       "    <tr>\n",
       "      <th>7</th>\n",
       "      <td>0.70</td>\n",
       "      <td>114.5</td>\n",
       "      <td>643.0</td>\n",
       "      <td>0.716610</td>\n",
       "      <td>101.543312</td>\n",
       "      <td>490.289581</td>\n",
       "      <td>12.479479</td>\n",
       "    </tr>\n",
       "    <tr>\n",
       "      <th>8</th>\n",
       "      <td>0.79</td>\n",
       "      <td>27.7</td>\n",
       "      <td>105.0</td>\n",
       "      <td>0.823266</td>\n",
       "      <td>22.479958</td>\n",
       "      <td>105.301140</td>\n",
       "      <td>7.780864</td>\n",
       "    </tr>\n",
       "    <tr>\n",
       "      <th>9</th>\n",
       "      <td>0.89</td>\n",
       "      <td>38.5</td>\n",
       "      <td>179.0</td>\n",
       "      <td>0.879764</td>\n",
       "      <td>40.896000</td>\n",
       "      <td>194.467010</td>\n",
       "      <td>5.338089</td>\n",
       "    </tr>\n",
       "    <tr>\n",
       "      <th>10</th>\n",
       "      <td>0.68</td>\n",
       "      <td>56.5</td>\n",
       "      <td>239.0</td>\n",
       "      <td>0.686111</td>\n",
       "      <td>49.355736</td>\n",
       "      <td>236.800018</td>\n",
       "      <td>4.821312</td>\n",
       "    </tr>\n",
       "    <tr>\n",
       "      <th>11</th>\n",
       "      <td>0.89</td>\n",
       "      <td>72.8</td>\n",
       "      <td>344.0</td>\n",
       "      <td>0.914337</td>\n",
       "      <td>68.630852</td>\n",
       "      <td>329.068054</td>\n",
       "      <td>4.267355</td>\n",
       "    </tr>\n",
       "  </tbody>\n",
       "</table>\n",
       "</div>"
      ],
      "text/plain": [
       "      Ra     Fn     Pw  Predicted Ra  Predicted Fn  Predicted Pw      Error\n",
       "0   0.60   71.6  359.0      0.647803     77.721695    374.924500   6.984249\n",
       "1   0.83   28.4  149.0      0.838506     27.447483    129.352661   5.854961\n",
       "2   0.87   37.5  165.0      0.863156     35.482216    168.254822   2.713349\n",
       "3   0.57   32.4  108.0      0.569545     22.742264    108.162567  10.012734\n",
       "4   0.88   65.3  314.0      0.881220     65.440376    313.766449   0.142644\n",
       "5   0.86   30.5  168.0      0.861573     34.966358    165.757172   5.387258\n",
       "6   0.90  100.3  584.0      0.919699     96.775574    465.844116   8.644956\n",
       "7   0.70  114.5  643.0      0.716610    101.543312    490.289581  12.479479\n",
       "8   0.79   27.7  105.0      0.823266     22.479958    105.301140   7.780864\n",
       "9   0.89   38.5  179.0      0.879764     40.896000    194.467010   5.338089\n",
       "10  0.68   56.5  239.0      0.686111     49.355736    236.800018   4.821312\n",
       "11  0.89   72.8  344.0      0.914337     68.630852    329.068054   4.267355"
      ]
     },
     "execution_count": 50,
     "metadata": {},
     "output_type": "execute_result"
    }
   ],
   "source": [
    "pred_df"
   ]
  },
  {
   "cell_type": "code",
   "execution_count": 51,
   "metadata": {},
   "outputs": [
    {
     "data": {
      "text/plain": [
       "<matplotlib.axes._subplots.AxesSubplot at 0x1e1f74b4d08>"
      ]
     },
     "execution_count": 51,
     "metadata": {},
     "output_type": "execute_result"
    },
    {
     "data": {
      "image/png": "[encoded data removed]",
      "text/plain": [
       "<Figure size 432x288 with 1 Axes>"
      ]
     },
     "metadata": {
      "needs_background": "light"
     },
     "output_type": "display_data"
    }
   ],
   "source": [
    "sns.scatterplot(x='Ra',y='Predicted Ra',data=pred_df)"
   ]
  },
  {
   "cell_type": "code",
   "execution_count": 52,
   "metadata": {},
   "outputs": [
    {
     "data": {
      "text/plain": [
       "<matplotlib.axes._subplots.AxesSubplot at 0x1e1f3905e88>"
      ]
     },
     "execution_count": 52,
     "metadata": {},
     "output_type": "execute_result"
    },
    {
     "data": {
      "image/png": "[encoded data removed]",
      "text/plain": [
       "<Figure size 432x288 with 1 Axes>"
      ]
     },
     "metadata": {
      "needs_background": "light"
     },
     "output_type": "display_data"
    }
   ],
   "source": [
    "sns.scatterplot(x='Fn',y='Predicted Fn',data=pred_df)"
   ]
  },
  {
   "cell_type": "code",
   "execution_count": 53,
   "metadata": {},
   "outputs": [
    {
     "data": {
      "text/plain": [
       "<matplotlib.axes._subplots.AxesSubplot at 0x1e1f7532e08>"
      ]
     },
     "execution_count": 53,
     "metadata": {},
     "output_type": "execute_result"
    },
    {
     "data": {
      "image/png": "[encoded data removed]",
      "text/plain": [
       "<Figure size 432x288 with 1 Axes>"
      ]
     },
     "metadata": {
      "needs_background": "light"
     },
     "output_type": "display_data"
    }
   ],
   "source": [
    "sns.scatterplot(x='Pw',y='Predicted Pw',data=pred_df)"
   ]
  },
  {
   "cell_type": "code",
   "execution_count": 54,
   "metadata": {},
   "outputs": [],
   "source": [
    "from sklearn.metrics import mean_absolute_error,mean_squared_error"
   ]
  },
  {
   "cell_type": "code",
   "execution_count": 55,
   "metadata": {},
   "outputs": [
    {
     "name": "stdout",
     "output_type": "stream",
     "text": [
      "28.76933224995931\n",
      "0.014721722404162085\n",
      "4.897252972920736\n"
     ]
    }
   ],
   "source": [
    "print( mean_absolute_error(pred_df['Pw'],pred_df['Predicted Pw']))\n",
    "print( mean_absolute_error(pred_df['Ra'],pred_df['Predicted Ra']))\n",
    "print( mean_absolute_error(pred_df['Fn'],pred_df['Predicted Fn']))"
   ]
  },
  {
   "cell_type": "code",
   "execution_count": 56,
   "metadata": {},
   "outputs": [],
   "source": [
    "from tensorflow.keras.models import load_model"
   ]
  },
  {
   "cell_type": "code",
   "execution_count": 59,
   "metadata": {},
   "outputs": [],
   "source": [
    "#model.save('grindingCompleteV215101055mape.h5')  # creates a HDF5 file 'my_model.h5'"
   ]
  },
  {
   "cell_type": "code",
   "execution_count": 60,
   "metadata": {},
   "outputs": [],
   "source": [
    "#myModel = load_model('grindingComplete1010554.h5')\n",
    "myModel = model"
   ]
  },
  {
   "cell_type": "code",
   "execution_count": 61,
   "metadata": {},
   "outputs": [],
   "source": [
    "X_trainTree = df.drop(['Ra','Fn','Pw','RaI','FnI','PwI'],axis=1).iloc[::2]\n",
    "X_testTree = df.drop(['Ra','Fn','Pw','RaI','FnI','PwI'],axis=1).iloc[1::2]\n",
    "y_trainTree = df[['Ra','Fn','Pw']].iloc[::2].values\n",
    "y_testTree = df[['Ra','Fn','Pw']].iloc[1::2].values"
   ]
  },
  {
   "cell_type": "code",
   "execution_count": 62,
   "metadata": {},
   "outputs": [],
   "source": [
    "\n",
    "X_testTree = scaler.transform(X_testTree)\n",
    "predictions = myModel.predict(X_testTree)"
   ]
  },
  {
   "cell_type": "code",
   "execution_count": 63,
   "metadata": {},
   "outputs": [],
   "source": [
    "pred = pd.DataFrame(y_testTree)\n",
    "pred.columns = ['Ra','Fn','Pw']"
   ]
  },
  {
   "cell_type": "code",
   "execution_count": 64,
   "metadata": {},
   "outputs": [],
   "source": [
    "predictions = pd.DataFrame(predictions)"
   ]
  },
  {
   "cell_type": "code",
   "execution_count": 65,
   "metadata": {},
   "outputs": [],
   "source": [
    "pred = pd.concat([pred,predictions],axis=1)"
   ]
  },
  {
   "cell_type": "code",
   "execution_count": 66,
   "metadata": {},
   "outputs": [],
   "source": [
    "pred.columns = ['Ra','Fn','Pw','Predicted Ra','Predicted Fn','Predicted Pw']"
   ]
  },
  {
   "cell_type": "code",
   "execution_count": 67,
   "metadata": {},
   "outputs": [],
   "source": [
    "pred['Error'] =abs( pred['Ra'] - pred['Predicted Ra'])/pred['Ra'] + abs(pred['Fn'] - pred['Predicted Fn'])/pred['Fn'] + abs(pred['Pw'] - pred['Predicted Pw'])/pred['Pw']\n",
    "pred['Error'] = pred['Error']*100/3"
   ]
  },
  {
   "cell_type": "code",
   "execution_count": 68,
   "metadata": {},
   "outputs": [
    {
     "data": {
      "text/html": [
       "<div>\n",
       "<style scoped>\n",
       "    .dataframe tbody tr th:only-of-type {\n",
       "        vertical-align: middle;\n",
       "    }\n",
       "\n",
       "    .dataframe tbody tr th {\n",
       "        vertical-align: top;\n",
       "    }\n",
       "\n",
       "    .dataframe thead th {\n",
       "        text-align: right;\n",
       "    }\n",
       "</style>\n",
       "<table border=\"1\" class=\"dataframe\">\n",
       "  <thead>\n",
       "    <tr style=\"text-align: right;\">\n",
       "      <th></th>\n",
       "      <th>Ra</th>\n",
       "      <th>Fn</th>\n",
       "      <th>Pw</th>\n",
       "      <th>Predicted Ra</th>\n",
       "      <th>Predicted Fn</th>\n",
       "      <th>Predicted Pw</th>\n",
       "      <th>Error</th>\n",
       "    </tr>\n",
       "  </thead>\n",
       "  <tbody>\n",
       "    <tr>\n",
       "      <th>0</th>\n",
       "      <td>0.86</td>\n",
       "      <td>45.3</td>\n",
       "      <td>224.0</td>\n",
       "      <td>0.887632</td>\n",
       "      <td>43.460560</td>\n",
       "      <td>206.883987</td>\n",
       "      <td>4.971573</td>\n",
       "    </tr>\n",
       "    <tr>\n",
       "      <th>1</th>\n",
       "      <td>0.84</td>\n",
       "      <td>66.3</td>\n",
       "      <td>344.0</td>\n",
       "      <td>0.841789</td>\n",
       "      <td>68.573601</td>\n",
       "      <td>329.243378</td>\n",
       "      <td>2.643966</td>\n",
       "    </tr>\n",
       "    <tr>\n",
       "      <th>2</th>\n",
       "      <td>0.88</td>\n",
       "      <td>65.3</td>\n",
       "      <td>314.0</td>\n",
       "      <td>0.881220</td>\n",
       "      <td>65.440376</td>\n",
       "      <td>313.766449</td>\n",
       "      <td>0.142644</td>\n",
       "    </tr>\n",
       "    <tr>\n",
       "      <th>3</th>\n",
       "      <td>0.68</td>\n",
       "      <td>56.5</td>\n",
       "      <td>239.0</td>\n",
       "      <td>0.686111</td>\n",
       "      <td>49.355736</td>\n",
       "      <td>236.800018</td>\n",
       "      <td>4.821312</td>\n",
       "    </tr>\n",
       "    <tr>\n",
       "      <th>4</th>\n",
       "      <td>0.90</td>\n",
       "      <td>100.3</td>\n",
       "      <td>584.0</td>\n",
       "      <td>0.919699</td>\n",
       "      <td>96.775574</td>\n",
       "      <td>465.844116</td>\n",
       "      <td>8.644956</td>\n",
       "    </tr>\n",
       "    <tr>\n",
       "      <th>5</th>\n",
       "      <td>0.85</td>\n",
       "      <td>79.5</td>\n",
       "      <td>389.0</td>\n",
       "      <td>0.862774</td>\n",
       "      <td>77.834038</td>\n",
       "      <td>374.126495</td>\n",
       "      <td>2.473971</td>\n",
       "    </tr>\n",
       "    <tr>\n",
       "      <th>6</th>\n",
       "      <td>0.89</td>\n",
       "      <td>72.8</td>\n",
       "      <td>344.0</td>\n",
       "      <td>0.914337</td>\n",
       "      <td>68.630852</td>\n",
       "      <td>329.068054</td>\n",
       "      <td>4.267355</td>\n",
       "    </tr>\n",
       "    <tr>\n",
       "      <th>7</th>\n",
       "      <td>0.70</td>\n",
       "      <td>114.5</td>\n",
       "      <td>643.0</td>\n",
       "      <td>0.716610</td>\n",
       "      <td>101.543312</td>\n",
       "      <td>490.289581</td>\n",
       "      <td>12.479479</td>\n",
       "    </tr>\n",
       "    <tr>\n",
       "      <th>8</th>\n",
       "      <td>0.87</td>\n",
       "      <td>37.5</td>\n",
       "      <td>165.0</td>\n",
       "      <td>0.863156</td>\n",
       "      <td>35.482216</td>\n",
       "      <td>168.254822</td>\n",
       "      <td>2.713349</td>\n",
       "    </tr>\n",
       "    <tr>\n",
       "      <th>9</th>\n",
       "      <td>0.57</td>\n",
       "      <td>32.4</td>\n",
       "      <td>108.0</td>\n",
       "      <td>0.569545</td>\n",
       "      <td>22.742264</td>\n",
       "      <td>108.162567</td>\n",
       "      <td>10.012734</td>\n",
       "    </tr>\n",
       "    <tr>\n",
       "      <th>10</th>\n",
       "      <td>0.79</td>\n",
       "      <td>27.7</td>\n",
       "      <td>105.0</td>\n",
       "      <td>0.823266</td>\n",
       "      <td>22.479958</td>\n",
       "      <td>105.301140</td>\n",
       "      <td>7.780864</td>\n",
       "    </tr>\n",
       "    <tr>\n",
       "      <th>11</th>\n",
       "      <td>0.83</td>\n",
       "      <td>28.4</td>\n",
       "      <td>149.0</td>\n",
       "      <td>0.838506</td>\n",
       "      <td>27.447483</td>\n",
       "      <td>129.352661</td>\n",
       "      <td>5.854961</td>\n",
       "    </tr>\n",
       "    <tr>\n",
       "      <th>12</th>\n",
       "      <td>0.89</td>\n",
       "      <td>38.5</td>\n",
       "      <td>179.0</td>\n",
       "      <td>0.879764</td>\n",
       "      <td>40.896000</td>\n",
       "      <td>194.467010</td>\n",
       "      <td>5.338089</td>\n",
       "    </tr>\n",
       "    <tr>\n",
       "      <th>13</th>\n",
       "      <td>0.60</td>\n",
       "      <td>71.6</td>\n",
       "      <td>359.0</td>\n",
       "      <td>0.647803</td>\n",
       "      <td>77.721695</td>\n",
       "      <td>374.924500</td>\n",
       "      <td>6.984249</td>\n",
       "    </tr>\n",
       "    <tr>\n",
       "      <th>14</th>\n",
       "      <td>0.89</td>\n",
       "      <td>66.2</td>\n",
       "      <td>275.0</td>\n",
       "      <td>0.927151</td>\n",
       "      <td>56.342396</td>\n",
       "      <td>269.254639</td>\n",
       "      <td>7.051363</td>\n",
       "    </tr>\n",
       "    <tr>\n",
       "      <th>15</th>\n",
       "      <td>0.86</td>\n",
       "      <td>30.5</td>\n",
       "      <td>168.0</td>\n",
       "      <td>0.861573</td>\n",
       "      <td>34.966358</td>\n",
       "      <td>165.757172</td>\n",
       "      <td>5.387258</td>\n",
       "    </tr>\n",
       "  </tbody>\n",
       "</table>\n",
       "</div>"
      ],
      "text/plain": [
       "      Ra     Fn     Pw  Predicted Ra  Predicted Fn  Predicted Pw      Error\n",
       "0   0.86   45.3  224.0      0.887632     43.460560    206.883987   4.971573\n",
       "1   0.84   66.3  344.0      0.841789     68.573601    329.243378   2.643966\n",
       "2   0.88   65.3  314.0      0.881220     65.440376    313.766449   0.142644\n",
       "3   0.68   56.5  239.0      0.686111     49.355736    236.800018   4.821312\n",
       "4   0.90  100.3  584.0      0.919699     96.775574    465.844116   8.644956\n",
       "5   0.85   79.5  389.0      0.862774     77.834038    374.126495   2.473971\n",
       "6   0.89   72.8  344.0      0.914337     68.630852    329.068054   4.267355\n",
       "7   0.70  114.5  643.0      0.716610    101.543312    490.289581  12.479479\n",
       "8   0.87   37.5  165.0      0.863156     35.482216    168.254822   2.713349\n",
       "9   0.57   32.4  108.0      0.569545     22.742264    108.162567  10.012734\n",
       "10  0.79   27.7  105.0      0.823266     22.479958    105.301140   7.780864\n",
       "11  0.83   28.4  149.0      0.838506     27.447483    129.352661   5.854961\n",
       "12  0.89   38.5  179.0      0.879764     40.896000    194.467010   5.338089\n",
       "13  0.60   71.6  359.0      0.647803     77.721695    374.924500   6.984249\n",
       "14  0.89   66.2  275.0      0.927151     56.342396    269.254639   7.051363\n",
       "15  0.86   30.5  168.0      0.861573     34.966358    165.757172   5.387258"
      ]
     },
     "execution_count": 68,
     "metadata": {},
     "output_type": "execute_result"
    }
   ],
   "source": [
    "pred"
   ]
  },
  {
   "cell_type": "code",
   "execution_count": 69,
   "metadata": {},
   "outputs": [
    {
     "name": "stdout",
     "output_type": "stream",
     "text": [
      "0.016000394374132157\n",
      "4.650227689743042\n",
      "24.857717990875244\n"
     ]
    }
   ],
   "source": [
    "print(mean_absolute_error(pred['Ra'],pred['Predicted Ra']))\n",
    "print(mean_absolute_error(pred['Fn'],pred['Predicted Fn']))\n",
    "print(mean_absolute_error(pred['Pw'],pred['Predicted Pw']))"
   ]
  },
  {
   "cell_type": "code",
   "execution_count": 70,
   "metadata": {},
   "outputs": [
    {
     "data": {
      "text/plain": [
       "[<matplotlib.lines.Line2D at 0x1e1f4febd48>,\n",
       " <matplotlib.lines.Line2D at 0x1e1f4bf9e48>,\n",
       " <matplotlib.lines.Line2D at 0x1e1f6afd088>]"
      ]
     },
     "execution_count": 70,
     "metadata": {},
     "output_type": "execute_result"
    },
    {
     "data": {
      "image/png": "[encoded data removed]",
      "text/plain": [
       "<Figure size 288x288 with 1 Axes>"
      ]
     },
     "metadata": {
      "needs_background": "light"
     },
     "output_type": "display_data"
    }
   ],
   "source": [
    "plt.figure(figsize=(4,4))\n",
    "plt.xlim(0.4,1)\n",
    "plt.ylim(0.4,1)\n",
    "\n",
    "sns.scatterplot(x='Ra',y='Predicted Ra',data=pred)\n",
    "plt.plot(y_test,y_test,'r')"
   ]
  },
  {
   "cell_type": "code",
   "execution_count": 71,
   "metadata": {},
   "outputs": [
    {
     "data": {
      "text/plain": [
       "[<matplotlib.lines.Line2D at 0x1e1f68bb2c8>,\n",
       " <matplotlib.lines.Line2D at 0x1e1f727ec08>,\n",
       " <matplotlib.lines.Line2D at 0x1e1f7252c08>]"
      ]
     },
     "execution_count": 71,
     "metadata": {},
     "output_type": "execute_result"
    },
    {
     "data": {
      "image/png": "[encoded data removed]",
      "text/plain": [
       "<Figure size 432x288 with 1 Axes>"
      ]
     },
     "metadata": {
      "needs_background": "light"
     },
     "output_type": "display_data"
    }
   ],
   "source": [
    "plt.xlim(0,100)\n",
    "plt.ylim(0,100)\n",
    "sns.scatterplot(x='Fn',y='Predicted Fn',data=pred)\n",
    "plt.plot(y_test,y_test,'r')"
   ]
  },
  {
   "cell_type": "code",
   "execution_count": 72,
   "metadata": {},
   "outputs": [
    {
     "data": {
      "text/plain": [
       "[<matplotlib.lines.Line2D at 0x1e1f762f508>,\n",
       " <matplotlib.lines.Line2D at 0x1e1f763b148>,\n",
       " <matplotlib.lines.Line2D at 0x1e1f766b048>]"
      ]
     },
     "execution_count": 72,
     "metadata": {},
     "output_type": "execute_result"
    },
    {
     "data": {
      "image/png": "[encoded data removed]",
      "text/plain": [
       "<Figure size 432x288 with 1 Axes>"
      ]
     },
     "metadata": {
      "needs_background": "light"
     },
     "output_type": "display_data"
    }
   ],
   "source": [
    "sns.scatterplot(x='Pw',y='Predicted Pw',data=pred)\n",
    "plt.plot(y_test,y_test,'r')"
   ]
  },
  {
   "cell_type": "code",
   "execution_count": 63,
   "metadata": {},
   "outputs": [],
   "source": [
    "new = [[0,80,50,2.9,1.47]]"
   ]
  },
  {
   "cell_type": "code",
   "execution_count": 64,
   "metadata": {},
   "outputs": [],
   "source": [
    "new = scaler.transform(new)"
   ]
  },
  {
   "cell_type": "code",
   "execution_count": 65,
   "metadata": {},
   "outputs": [
    {
     "data": {
      "text/plain": [
       "array([[  0.86632323,  43.39112   , 207.15031   ]], dtype=float32)"
      ]
     },
     "execution_count": 65,
     "metadata": {},
     "output_type": "execute_result"
    }
   ],
   "source": [
    "myModel.predict(new)"
   ]
  },
  {
   "cell_type": "code",
   "execution_count": null,
   "metadata": {},
   "outputs": [],
   "source": []
  },
  {
   "cell_type": "code",
   "execution_count": null,
   "metadata": {},
   "outputs": [],
   "source": []
  },
  {
   "cell_type": "code",
   "execution_count": 72,
   "metadata": {},
   "outputs": [],
   "source": [
    "X_trainTree = df.drop(['Ra','Fn','Pw','RaI','FnI','PwI'],axis=1).iloc[::2]\n",
    "X_testTree = df.drop(['Ra','Fn','Pw','RaI','FnI','PwI'],axis=1).iloc[1::2]\n",
    "y_trainTree = df[['Ra','Fn','Pw']].iloc[::2].values\n",
    "y_testTree = df[['Ra','Fn','Pw']].iloc[1::2].values"
   ]
  },
  {
   "cell_type": "code",
   "execution_count": 73,
   "metadata": {},
   "outputs": [
    {
     "data": {
      "text/plain": [
       "DecisionTreeRegressor(criterion='mse', max_depth=4, max_features=None,\n",
       "                      max_leaf_nodes=None, min_impurity_decrease=0.0,\n",
       "                      min_impurity_split=None, min_samples_leaf=1,\n",
       "                      min_samples_split=2, min_weight_fraction_leaf=0.0,\n",
       "                      presort=False, random_state=None, splitter='best')"
      ]
     },
     "execution_count": 73,
     "metadata": {},
     "output_type": "execute_result"
    }
   ],
   "source": [
    "from sklearn.tree import DecisionTreeClassifier\n",
    "from sklearn import tree\n",
    "from sklearn.ensemble import AdaBoostRegressor\n",
    "r2 = (tree.DecisionTreeRegressor(max_depth=4))\n",
    "r2.fit(X_trainTree,y_trainTree)"
   ]
  },
  {
   "cell_type": "code",
   "execution_count": 74,
   "metadata": {},
   "outputs": [
    {
     "data": {
      "text/html": [
       "<div>\n",
       "<style scoped>\n",
       "    .dataframe tbody tr th:only-of-type {\n",
       "        vertical-align: middle;\n",
       "    }\n",
       "\n",
       "    .dataframe tbody tr th {\n",
       "        vertical-align: top;\n",
       "    }\n",
       "\n",
       "    .dataframe thead th {\n",
       "        text-align: right;\n",
       "    }\n",
       "</style>\n",
       "<table border=\"1\" class=\"dataframe\">\n",
       "  <thead>\n",
       "    <tr style=\"text-align: right;\">\n",
       "      <th></th>\n",
       "      <th>B</th>\n",
       "      <th>m</th>\n",
       "      <th>c</th>\n",
       "      <th>Vw</th>\n",
       "      <th>d</th>\n",
       "    </tr>\n",
       "  </thead>\n",
       "  <tbody>\n",
       "    <tr>\n",
       "      <th>1</th>\n",
       "      <td>0</td>\n",
       "      <td>80</td>\n",
       "      <td>50</td>\n",
       "      <td>2.9</td>\n",
       "      <td>1.47</td>\n",
       "    </tr>\n",
       "    <tr>\n",
       "      <th>3</th>\n",
       "      <td>0</td>\n",
       "      <td>180</td>\n",
       "      <td>50</td>\n",
       "      <td>2.9</td>\n",
       "      <td>2.59</td>\n",
       "    </tr>\n",
       "    <tr>\n",
       "      <th>5</th>\n",
       "      <td>0</td>\n",
       "      <td>80</td>\n",
       "      <td>100</td>\n",
       "      <td>2.9</td>\n",
       "      <td>2.59</td>\n",
       "    </tr>\n",
       "    <tr>\n",
       "      <th>7</th>\n",
       "      <td>0</td>\n",
       "      <td>180</td>\n",
       "      <td>100</td>\n",
       "      <td>2.9</td>\n",
       "      <td>1.47</td>\n",
       "    </tr>\n",
       "    <tr>\n",
       "      <th>9</th>\n",
       "      <td>0</td>\n",
       "      <td>80</td>\n",
       "      <td>50</td>\n",
       "      <td>6.9</td>\n",
       "      <td>2.59</td>\n",
       "    </tr>\n",
       "    <tr>\n",
       "      <th>11</th>\n",
       "      <td>0</td>\n",
       "      <td>180</td>\n",
       "      <td>50</td>\n",
       "      <td>6.9</td>\n",
       "      <td>1.47</td>\n",
       "    </tr>\n",
       "    <tr>\n",
       "      <th>13</th>\n",
       "      <td>0</td>\n",
       "      <td>80</td>\n",
       "      <td>100</td>\n",
       "      <td>6.9</td>\n",
       "      <td>1.47</td>\n",
       "    </tr>\n",
       "    <tr>\n",
       "      <th>15</th>\n",
       "      <td>0</td>\n",
       "      <td>180</td>\n",
       "      <td>100</td>\n",
       "      <td>6.9</td>\n",
       "      <td>2.59</td>\n",
       "    </tr>\n",
       "    <tr>\n",
       "      <th>17</th>\n",
       "      <td>1</td>\n",
       "      <td>80</td>\n",
       "      <td>50</td>\n",
       "      <td>2.9</td>\n",
       "      <td>2.59</td>\n",
       "    </tr>\n",
       "    <tr>\n",
       "      <th>19</th>\n",
       "      <td>1</td>\n",
       "      <td>180</td>\n",
       "      <td>50</td>\n",
       "      <td>2.9</td>\n",
       "      <td>1.47</td>\n",
       "    </tr>\n",
       "    <tr>\n",
       "      <th>21</th>\n",
       "      <td>1</td>\n",
       "      <td>80</td>\n",
       "      <td>100</td>\n",
       "      <td>2.9</td>\n",
       "      <td>1.47</td>\n",
       "    </tr>\n",
       "    <tr>\n",
       "      <th>23</th>\n",
       "      <td>1</td>\n",
       "      <td>180</td>\n",
       "      <td>100</td>\n",
       "      <td>2.9</td>\n",
       "      <td>2.59</td>\n",
       "    </tr>\n",
       "    <tr>\n",
       "      <th>25</th>\n",
       "      <td>1</td>\n",
       "      <td>80</td>\n",
       "      <td>50</td>\n",
       "      <td>6.9</td>\n",
       "      <td>1.47</td>\n",
       "    </tr>\n",
       "    <tr>\n",
       "      <th>27</th>\n",
       "      <td>1</td>\n",
       "      <td>180</td>\n",
       "      <td>50</td>\n",
       "      <td>6.9</td>\n",
       "      <td>2.59</td>\n",
       "    </tr>\n",
       "    <tr>\n",
       "      <th>29</th>\n",
       "      <td>1</td>\n",
       "      <td>80</td>\n",
       "      <td>100</td>\n",
       "      <td>6.9</td>\n",
       "      <td>2.59</td>\n",
       "    </tr>\n",
       "    <tr>\n",
       "      <th>31</th>\n",
       "      <td>1</td>\n",
       "      <td>180</td>\n",
       "      <td>100</td>\n",
       "      <td>6.9</td>\n",
       "      <td>1.47</td>\n",
       "    </tr>\n",
       "  </tbody>\n",
       "</table>\n",
       "</div>"
      ],
      "text/plain": [
       "    B    m    c   Vw     d\n",
       "1   0   80   50  2.9  1.47\n",
       "3   0  180   50  2.9  2.59\n",
       "5   0   80  100  2.9  2.59\n",
       "7   0  180  100  2.9  1.47\n",
       "9   0   80   50  6.9  2.59\n",
       "11  0  180   50  6.9  1.47\n",
       "13  0   80  100  6.9  1.47\n",
       "15  0  180  100  6.9  2.59\n",
       "17  1   80   50  2.9  2.59\n",
       "19  1  180   50  2.9  1.47\n",
       "21  1   80  100  2.9  1.47\n",
       "23  1  180  100  2.9  2.59\n",
       "25  1   80   50  6.9  1.47\n",
       "27  1  180   50  6.9  2.59\n",
       "29  1   80  100  6.9  2.59\n",
       "31  1  180  100  6.9  1.47"
      ]
     },
     "execution_count": 74,
     "metadata": {},
     "output_type": "execute_result"
    }
   ],
   "source": [
    "X_testTree"
   ]
  },
  {
   "cell_type": "code",
   "execution_count": 75,
   "metadata": {},
   "outputs": [
    {
     "data": {
      "text/html": [
       "<div>\n",
       "<style scoped>\n",
       "    .dataframe tbody tr th:only-of-type {\n",
       "        vertical-align: middle;\n",
       "    }\n",
       "\n",
       "    .dataframe tbody tr th {\n",
       "        vertical-align: top;\n",
       "    }\n",
       "\n",
       "    .dataframe thead th {\n",
       "        text-align: right;\n",
       "    }\n",
       "</style>\n",
       "<table border=\"1\" class=\"dataframe\">\n",
       "  <thead>\n",
       "    <tr style=\"text-align: right;\">\n",
       "      <th></th>\n",
       "      <th>Ra</th>\n",
       "      <th>Fn</th>\n",
       "      <th>Pw</th>\n",
       "      <th>Predicted Ra</th>\n",
       "      <th>Predicted Fn</th>\n",
       "      <th>Predicted Pw</th>\n",
       "      <th>% Error</th>\n",
       "      <th>mean Error</th>\n",
       "    </tr>\n",
       "  </thead>\n",
       "  <tbody>\n",
       "    <tr>\n",
       "      <th>0</th>\n",
       "      <td>0.86</td>\n",
       "      <td>45.3</td>\n",
       "      <td>224.0</td>\n",
       "      <td>0.88</td>\n",
       "      <td>43.4</td>\n",
       "      <td>209.0</td>\n",
       "      <td>4.405423</td>\n",
       "      <td>5.640000</td>\n",
       "    </tr>\n",
       "    <tr>\n",
       "      <th>1</th>\n",
       "      <td>0.84</td>\n",
       "      <td>66.3</td>\n",
       "      <td>344.0</td>\n",
       "      <td>0.83</td>\n",
       "      <td>66.2</td>\n",
       "      <td>329.0</td>\n",
       "      <td>1.900590</td>\n",
       "      <td>5.036667</td>\n",
       "    </tr>\n",
       "    <tr>\n",
       "      <th>2</th>\n",
       "      <td>0.88</td>\n",
       "      <td>65.3</td>\n",
       "      <td>314.0</td>\n",
       "      <td>0.86</td>\n",
       "      <td>64.2</td>\n",
       "      <td>314.0</td>\n",
       "      <td>1.319087</td>\n",
       "      <td>0.373333</td>\n",
       "    </tr>\n",
       "    <tr>\n",
       "      <th>3</th>\n",
       "      <td>0.68</td>\n",
       "      <td>56.5</td>\n",
       "      <td>239.0</td>\n",
       "      <td>0.67</td>\n",
       "      <td>55.5</td>\n",
       "      <td>224.0</td>\n",
       "      <td>3.172217</td>\n",
       "      <td>5.336667</td>\n",
       "    </tr>\n",
       "    <tr>\n",
       "      <th>4</th>\n",
       "      <td>0.90</td>\n",
       "      <td>100.3</td>\n",
       "      <td>584.0</td>\n",
       "      <td>0.91</td>\n",
       "      <td>95.6</td>\n",
       "      <td>599.0</td>\n",
       "      <td>2.788515</td>\n",
       "      <td>6.570000</td>\n",
       "    </tr>\n",
       "    <tr>\n",
       "      <th>5</th>\n",
       "      <td>0.85</td>\n",
       "      <td>79.5</td>\n",
       "      <td>389.0</td>\n",
       "      <td>0.85</td>\n",
       "      <td>74.9</td>\n",
       "      <td>374.0</td>\n",
       "      <td>3.214068</td>\n",
       "      <td>6.533333</td>\n",
       "    </tr>\n",
       "    <tr>\n",
       "      <th>6</th>\n",
       "      <td>0.89</td>\n",
       "      <td>72.8</td>\n",
       "      <td>344.0</td>\n",
       "      <td>0.89</td>\n",
       "      <td>68.6</td>\n",
       "      <td>329.0</td>\n",
       "      <td>3.376565</td>\n",
       "      <td>6.400000</td>\n",
       "    </tr>\n",
       "    <tr>\n",
       "      <th>7</th>\n",
       "      <td>0.70</td>\n",
       "      <td>114.5</td>\n",
       "      <td>643.0</td>\n",
       "      <td>0.71</td>\n",
       "      <td>109.6</td>\n",
       "      <td>658.0</td>\n",
       "      <td>2.680287</td>\n",
       "      <td>6.636667</td>\n",
       "    </tr>\n",
       "    <tr>\n",
       "      <th>8</th>\n",
       "      <td>0.87</td>\n",
       "      <td>37.5</td>\n",
       "      <td>165.0</td>\n",
       "      <td>0.87</td>\n",
       "      <td>36.8</td>\n",
       "      <td>150.0</td>\n",
       "      <td>3.652525</td>\n",
       "      <td>5.233333</td>\n",
       "    </tr>\n",
       "    <tr>\n",
       "      <th>9</th>\n",
       "      <td>0.57</td>\n",
       "      <td>32.4</td>\n",
       "      <td>108.0</td>\n",
       "      <td>0.57</td>\n",
       "      <td>30.5</td>\n",
       "      <td>108.0</td>\n",
       "      <td>1.954733</td>\n",
       "      <td>0.633333</td>\n",
       "    </tr>\n",
       "    <tr>\n",
       "      <th>10</th>\n",
       "      <td>0.79</td>\n",
       "      <td>27.7</td>\n",
       "      <td>105.0</td>\n",
       "      <td>0.81</td>\n",
       "      <td>27.3</td>\n",
       "      <td>105.0</td>\n",
       "      <td>1.325230</td>\n",
       "      <td>0.140000</td>\n",
       "    </tr>\n",
       "    <tr>\n",
       "      <th>11</th>\n",
       "      <td>0.83</td>\n",
       "      <td>28.4</td>\n",
       "      <td>149.0</td>\n",
       "      <td>0.84</td>\n",
       "      <td>27.3</td>\n",
       "      <td>144.0</td>\n",
       "      <td>2.811254</td>\n",
       "      <td>2.036667</td>\n",
       "    </tr>\n",
       "    <tr>\n",
       "      <th>12</th>\n",
       "      <td>0.89</td>\n",
       "      <td>38.5</td>\n",
       "      <td>179.0</td>\n",
       "      <td>0.92</td>\n",
       "      <td>41.5</td>\n",
       "      <td>194.0</td>\n",
       "      <td>6.514294</td>\n",
       "      <td>6.010000</td>\n",
       "    </tr>\n",
       "    <tr>\n",
       "      <th>13</th>\n",
       "      <td>0.60</td>\n",
       "      <td>71.6</td>\n",
       "      <td>359.0</td>\n",
       "      <td>0.62</td>\n",
       "      <td>80.3</td>\n",
       "      <td>374.0</td>\n",
       "      <td>6.554148</td>\n",
       "      <td>7.906667</td>\n",
       "    </tr>\n",
       "    <tr>\n",
       "      <th>14</th>\n",
       "      <td>0.89</td>\n",
       "      <td>66.2</td>\n",
       "      <td>275.0</td>\n",
       "      <td>0.88</td>\n",
       "      <td>60.7</td>\n",
       "      <td>269.0</td>\n",
       "      <td>3.871190</td>\n",
       "      <td>3.836667</td>\n",
       "    </tr>\n",
       "    <tr>\n",
       "      <th>15</th>\n",
       "      <td>0.86</td>\n",
       "      <td>30.5</td>\n",
       "      <td>168.0</td>\n",
       "      <td>0.85</td>\n",
       "      <td>34.0</td>\n",
       "      <td>179.0</td>\n",
       "      <td>6.395273</td>\n",
       "      <td>4.836667</td>\n",
       "    </tr>\n",
       "  </tbody>\n",
       "</table>\n",
       "</div>"
      ],
      "text/plain": [
       "      Ra     Fn     Pw  Predicted Ra  Predicted Fn  Predicted Pw   % Error  \\\n",
       "0   0.86   45.3  224.0          0.88          43.4         209.0  4.405423   \n",
       "1   0.84   66.3  344.0          0.83          66.2         329.0  1.900590   \n",
       "2   0.88   65.3  314.0          0.86          64.2         314.0  1.319087   \n",
       "3   0.68   56.5  239.0          0.67          55.5         224.0  3.172217   \n",
       "4   0.90  100.3  584.0          0.91          95.6         599.0  2.788515   \n",
       "5   0.85   79.5  389.0          0.85          74.9         374.0  3.214068   \n",
       "6   0.89   72.8  344.0          0.89          68.6         329.0  3.376565   \n",
       "7   0.70  114.5  643.0          0.71         109.6         658.0  2.680287   \n",
       "8   0.87   37.5  165.0          0.87          36.8         150.0  3.652525   \n",
       "9   0.57   32.4  108.0          0.57          30.5         108.0  1.954733   \n",
       "10  0.79   27.7  105.0          0.81          27.3         105.0  1.325230   \n",
       "11  0.83   28.4  149.0          0.84          27.3         144.0  2.811254   \n",
       "12  0.89   38.5  179.0          0.92          41.5         194.0  6.514294   \n",
       "13  0.60   71.6  359.0          0.62          80.3         374.0  6.554148   \n",
       "14  0.89   66.2  275.0          0.88          60.7         269.0  3.871190   \n",
       "15  0.86   30.5  168.0          0.85          34.0         179.0  6.395273   \n",
       "\n",
       "    mean Error  \n",
       "0     5.640000  \n",
       "1     5.036667  \n",
       "2     0.373333  \n",
       "3     5.336667  \n",
       "4     6.570000  \n",
       "5     6.533333  \n",
       "6     6.400000  \n",
       "7     6.636667  \n",
       "8     5.233333  \n",
       "9     0.633333  \n",
       "10    0.140000  \n",
       "11    2.036667  \n",
       "12    6.010000  \n",
       "13    7.906667  \n",
       "14    3.836667  \n",
       "15    4.836667  "
      ]
     },
     "execution_count": 75,
     "metadata": {},
     "output_type": "execute_result"
    }
   ],
   "source": [
    "predTree = pd.DataFrame(y_testTree)\n",
    "predTree.columns = ['Ra','Fn','Pw']\n",
    "predictions3 = r2.predict(X_testTree)\n",
    "predictions3 = pd.DataFrame(predictions3)\n",
    "#predTree['Prediction'] = predictions3\n",
    "predTree = pd.concat([predTree,predictions3],axis=1)#predTree['Error'] = predTree['Y test'] - predTree['Predictions']\n",
    "predTree.columns = ['Ra','Fn','Pw','Predicted Ra','Predicted Fn','Predicted Pw']\n",
    "predTree['% Error'] =abs( predTree['Ra'] - predTree['Predicted Ra'])/predTree['Ra'] + abs(predTree['Fn'] - predTree['Predicted Fn'])/predTree['Fn'] + abs(predTree['Pw'] - predTree['Predicted Pw'])/predTree['Pw']\n",
    "predTree['% Error'] = predTree['% Error']*100/3\n",
    "predTree['mean Error'] =abs( predTree['Ra'] - predTree['Predicted Ra']) + abs(predTree['Fn'] - predTree['Predicted Fn']) + abs(predTree['Pw'] - predTree['Predicted Pw'])\n",
    "predTree['mean Error'] = predTree['mean Error']/3\n",
    "\n",
    "predTree"
   ]
  },
  {
   "cell_type": "code",
   "execution_count": 76,
   "metadata": {},
   "outputs": [],
   "source": [
    "#mean_absolute_error(predTree['Y test'],predTree['Predictions'])"
   ]
  },
  {
   "cell_type": "code",
   "execution_count": 77,
   "metadata": {},
   "outputs": [
    {
     "data": {
      "text/plain": [
       "[<matplotlib.lines.Line2D at 0x1628e5439c8>,\n",
       " <matplotlib.lines.Line2D at 0x1628e578488>,\n",
       " <matplotlib.lines.Line2D at 0x1628e597a08>]"
      ]
     },
     "execution_count": 77,
     "metadata": {},
     "output_type": "execute_result"
    },
    {
     "data": {
      "image/png": "[encoded data removed]",
      "text/plain": [
       "<Figure size 432x288 with 1 Axes>"
      ]
     },
     "metadata": {
      "needs_background": "light"
     },
     "output_type": "display_data"
    }
   ],
   "source": [
    "sns.scatterplot(x='Pw',y='Predicted Pw',data=predTree)\n",
    "plt.plot(y_test,y_test,'r')"
   ]
  },
  {
   "cell_type": "code",
   "execution_count": 78,
   "metadata": {},
   "outputs": [
    {
     "data": {
      "text/plain": [
       "[<matplotlib.lines.Line2D at 0x1628e5abc88>,\n",
       " <matplotlib.lines.Line2D at 0x1628e60b0c8>,\n",
       " <matplotlib.lines.Line2D at 0x1628e603cc8>]"
      ]
     },
     "execution_count": 78,
     "metadata": {},
     "output_type": "execute_result"
    },
    {
     "data": {
      "image/png": "[encoded data removed]",
      "text/plain": [
       "<Figure size 432x288 with 1 Axes>"
      ]
     },
     "metadata": {
      "needs_background": "light"
     },
     "output_type": "display_data"
    }
   ],
   "source": [
    "plt.xlim(0,100)\n",
    "plt.ylim(0,100)\n",
    "sns.scatterplot(x='Fn',y='Predicted Fn',data=predTree)\n",
    "plt.plot(y_test,y_test,'r')"
   ]
  },
  {
   "cell_type": "code",
   "execution_count": 79,
   "metadata": {},
   "outputs": [
    {
     "data": {
      "text/plain": [
       "[<matplotlib.lines.Line2D at 0x1628e628408>,\n",
       " <matplotlib.lines.Line2D at 0x1628e66ba08>,\n",
       " <matplotlib.lines.Line2D at 0x1628e671808>]"
      ]
     },
     "execution_count": 79,
     "metadata": {},
     "output_type": "execute_result"
    },
    {
     "data": {
      "image/png": "[encoded data removed]",
      "text/plain": [
       "<Figure size 432x432 with 1 Axes>"
      ]
     },
     "metadata": {
      "needs_background": "light"
     },
     "output_type": "display_data"
    }
   ],
   "source": [
    "plt.figure(figsize=(6,6))\n",
    "plt.xlim(0.4,1)\n",
    "plt.ylim(0.4,1)\n",
    "\n",
    "sns.scatterplot(x='Ra',y='Predicted Ra',data=predTree)\n",
    "plt.plot(y_train,y_train,'r')"
   ]
  },
  {
   "cell_type": "code",
   "execution_count": 1421,
   "metadata": {},
   "outputs": [
    {
     "data": {
      "text/plain": [
       "pandas.core.series.Series"
      ]
     },
     "execution_count": 1421,
     "metadata": {},
     "output_type": "execute_result"
    }
   ],
   "source": [
    "type(X_testTree.iloc[0])"
   ]
  },
  {
   "cell_type": "code",
   "execution_count": 90,
   "metadata": {},
   "outputs": [],
   "source": [
    "#fig = plt.figure(figsize=(30,30))\n",
    "#_ = tree.plot_tree(r2,max_depth=4,feature_names=[\"B\",\"m\",\"c\",\"Vw\",\"d\"],)"
   ]
  },
  {
   "cell_type": "code",
   "execution_count": 1422,
   "metadata": {},
   "outputs": [],
   "source": [
    "l = np.linspace(12,16,8)"
   ]
  },
  {
   "cell_type": "code",
   "execution_count": 1423,
   "metadata": {},
   "outputs": [
    {
     "data": {
      "text/plain": [
       "numpy.ndarray"
      ]
     },
     "execution_count": 1423,
     "metadata": {},
     "output_type": "execute_result"
    }
   ],
   "source": [
    "type(l)"
   ]
  },
  {
   "cell_type": "code",
   "execution_count": 1506,
   "metadata": {},
   "outputs": [],
   "source": [
    "Vw_range = np.linspace(2.9,6.9,24)\n",
    "d_range = np.linspace(1.47,2.6,24)\n",
    "B = np.array([0,1])\n",
    "m = np.array([80,100,120,140,160,180])\n",
    "c = np.array([50,75,100])\n",
    "             "
   ]
  },
  {
   "cell_type": "code",
   "execution_count": 1507,
   "metadata": {},
   "outputs": [],
   "source": [
    "import itertools"
   ]
  },
  {
   "cell_type": "code",
   "execution_count": 1508,
   "metadata": {},
   "outputs": [],
   "source": [
    "a = [B,m,c,Vw_range,d_range,]\n",
    "combinations = list(itertools.product(*a))"
   ]
  },
  {
   "cell_type": "code",
   "execution_count": 1509,
   "metadata": {},
   "outputs": [],
   "source": [
    "combinations = np.array(combinations)"
   ]
  },
  {
   "cell_type": "code",
   "execution_count": 1510,
   "metadata": {},
   "outputs": [
    {
     "data": {
      "text/plain": [
       "(20736, 5)"
      ]
     },
     "execution_count": 1510,
     "metadata": {},
     "output_type": "execute_result"
    }
   ],
   "source": [
    "combinations.shape"
   ]
  },
  {
   "cell_type": "code",
   "execution_count": 1511,
   "metadata": {},
   "outputs": [],
   "source": [
    "inputOptimize = pd.DataFrame(combinations,columns=[\"B\",\"m\",\"c\",\"Vw\",\"d\",])"
   ]
  },
  {
   "cell_type": "code",
   "execution_count": 1512,
   "metadata": {},
   "outputs": [
    {
     "data": {
      "text/plain": [
       "<bound method NDFrame.head of          B      m      c   Vw         d\n",
       "0      0.0   80.0   50.0  2.9  1.470000\n",
       "1      0.0   80.0   50.0  2.9  1.519130\n",
       "2      0.0   80.0   50.0  2.9  1.568261\n",
       "3      0.0   80.0   50.0  2.9  1.617391\n",
       "4      0.0   80.0   50.0  2.9  1.666522\n",
       "...    ...    ...    ...  ...       ...\n",
       "20731  1.0  180.0  100.0  6.9  2.403478\n",
       "20732  1.0  180.0  100.0  6.9  2.452609\n",
       "20733  1.0  180.0  100.0  6.9  2.501739\n",
       "20734  1.0  180.0  100.0  6.9  2.550870\n",
       "20735  1.0  180.0  100.0  6.9  2.600000\n",
       "\n",
       "[20736 rows x 5 columns]>"
      ]
     },
     "execution_count": 1512,
     "metadata": {},
     "output_type": "execute_result"
    }
   ],
   "source": [
    "inputOptimize.head"
   ]
  },
  {
   "cell_type": "code",
   "execution_count": 1513,
   "metadata": {},
   "outputs": [
    {
     "data": {
      "text/html": [
       "<div>\n",
       "<style scoped>\n",
       "    .dataframe tbody tr th:only-of-type {\n",
       "        vertical-align: middle;\n",
       "    }\n",
       "\n",
       "    .dataframe tbody tr th {\n",
       "        vertical-align: top;\n",
       "    }\n",
       "\n",
       "    .dataframe thead th {\n",
       "        text-align: right;\n",
       "    }\n",
       "</style>\n",
       "<table border=\"1\" class=\"dataframe\">\n",
       "  <thead>\n",
       "    <tr style=\"text-align: right;\">\n",
       "      <th></th>\n",
       "      <th>B</th>\n",
       "      <th>m</th>\n",
       "      <th>c</th>\n",
       "      <th>Vw</th>\n",
       "      <th>d</th>\n",
       "    </tr>\n",
       "  </thead>\n",
       "  <tbody>\n",
       "    <tr>\n",
       "      <th>0</th>\n",
       "      <td>0.0</td>\n",
       "      <td>80.0</td>\n",
       "      <td>50.0</td>\n",
       "      <td>2.9</td>\n",
       "      <td>1.470000</td>\n",
       "    </tr>\n",
       "    <tr>\n",
       "      <th>1</th>\n",
       "      <td>0.0</td>\n",
       "      <td>80.0</td>\n",
       "      <td>50.0</td>\n",
       "      <td>2.9</td>\n",
       "      <td>1.519130</td>\n",
       "    </tr>\n",
       "    <tr>\n",
       "      <th>2</th>\n",
       "      <td>0.0</td>\n",
       "      <td>80.0</td>\n",
       "      <td>50.0</td>\n",
       "      <td>2.9</td>\n",
       "      <td>1.568261</td>\n",
       "    </tr>\n",
       "    <tr>\n",
       "      <th>3</th>\n",
       "      <td>0.0</td>\n",
       "      <td>80.0</td>\n",
       "      <td>50.0</td>\n",
       "      <td>2.9</td>\n",
       "      <td>1.617391</td>\n",
       "    </tr>\n",
       "    <tr>\n",
       "      <th>4</th>\n",
       "      <td>0.0</td>\n",
       "      <td>80.0</td>\n",
       "      <td>50.0</td>\n",
       "      <td>2.9</td>\n",
       "      <td>1.666522</td>\n",
       "    </tr>\n",
       "    <tr>\n",
       "      <th>...</th>\n",
       "      <td>...</td>\n",
       "      <td>...</td>\n",
       "      <td>...</td>\n",
       "      <td>...</td>\n",
       "      <td>...</td>\n",
       "    </tr>\n",
       "    <tr>\n",
       "      <th>20731</th>\n",
       "      <td>1.0</td>\n",
       "      <td>180.0</td>\n",
       "      <td>100.0</td>\n",
       "      <td>6.9</td>\n",
       "      <td>2.403478</td>\n",
       "    </tr>\n",
       "    <tr>\n",
       "      <th>20732</th>\n",
       "      <td>1.0</td>\n",
       "      <td>180.0</td>\n",
       "      <td>100.0</td>\n",
       "      <td>6.9</td>\n",
       "      <td>2.452609</td>\n",
       "    </tr>\n",
       "    <tr>\n",
       "      <th>20733</th>\n",
       "      <td>1.0</td>\n",
       "      <td>180.0</td>\n",
       "      <td>100.0</td>\n",
       "      <td>6.9</td>\n",
       "      <td>2.501739</td>\n",
       "    </tr>\n",
       "    <tr>\n",
       "      <th>20734</th>\n",
       "      <td>1.0</td>\n",
       "      <td>180.0</td>\n",
       "      <td>100.0</td>\n",
       "      <td>6.9</td>\n",
       "      <td>2.550870</td>\n",
       "    </tr>\n",
       "    <tr>\n",
       "      <th>20735</th>\n",
       "      <td>1.0</td>\n",
       "      <td>180.0</td>\n",
       "      <td>100.0</td>\n",
       "      <td>6.9</td>\n",
       "      <td>2.600000</td>\n",
       "    </tr>\n",
       "  </tbody>\n",
       "</table>\n",
       "<p>20736 rows × 5 columns</p>\n",
       "</div>"
      ],
      "text/plain": [
       "         B      m      c   Vw         d\n",
       "0      0.0   80.0   50.0  2.9  1.470000\n",
       "1      0.0   80.0   50.0  2.9  1.519130\n",
       "2      0.0   80.0   50.0  2.9  1.568261\n",
       "3      0.0   80.0   50.0  2.9  1.617391\n",
       "4      0.0   80.0   50.0  2.9  1.666522\n",
       "...    ...    ...    ...  ...       ...\n",
       "20731  1.0  180.0  100.0  6.9  2.403478\n",
       "20732  1.0  180.0  100.0  6.9  2.452609\n",
       "20733  1.0  180.0  100.0  6.9  2.501739\n",
       "20734  1.0  180.0  100.0  6.9  2.550870\n",
       "20735  1.0  180.0  100.0  6.9  2.600000\n",
       "\n",
       "[20736 rows x 5 columns]"
      ]
     },
     "execution_count": 1513,
     "metadata": {},
     "output_type": "execute_result"
    }
   ],
   "source": [
    "inputOptimize"
   ]
  },
  {
   "cell_type": "code",
   "execution_count": 1514,
   "metadata": {},
   "outputs": [],
   "source": [
    "#customPredictions = model.predict(scaler.transform(inputOptimize))\n",
    "customPredictions = myModel.predict((scaler.transform(inputOptimize)))"
   ]
  },
  {
   "cell_type": "code",
   "execution_count": 1515,
   "metadata": {},
   "outputs": [
    {
     "data": {
      "text/plain": [
       "array([[  0.88560545,  44.68406   , 208.9402    ],\n",
       "       [  0.88580126,  45.546432  , 213.017     ],\n",
       "       [  0.8859961 ,  46.40879   , 217.09375   ],\n",
       "       ...,\n",
       "       [  0.78647596,  56.59176   , 264.89313   ],\n",
       "       [  0.7832822 ,  57.5498    , 269.40558   ],\n",
       "       [  0.780087  ,  58.507847  , 273.91803   ]], dtype=float32)"
      ]
     },
     "execution_count": 1515,
     "metadata": {},
     "output_type": "execute_result"
    }
   ],
   "source": [
    "(customPredictions)"
   ]
  },
  {
   "cell_type": "code",
   "execution_count": 1516,
   "metadata": {},
   "outputs": [
    {
     "data": {
      "text/plain": [
       "[<matplotlib.lines.Line2D at 0x1fe99dad5c8>]"
      ]
     },
     "execution_count": 1516,
     "metadata": {},
     "output_type": "execute_result"
    },
    {
     "data": {
      "image/png": "[encoded data removed]",
      "text/plain": [
       "<Figure size 864x864 with 1 Axes>"
      ]
     },
     "metadata": {
      "needs_background": "light"
     },
     "output_type": "display_data"
    }
   ],
   "source": [
    "plt.figure(figsize=(12,12))\n",
    "plt.plot(customPredictions[:,0] , \"ro\")"
   ]
  },
  {
   "cell_type": "code",
   "execution_count": 1517,
   "metadata": {},
   "outputs": [],
   "source": [
    "customOutput = pd.DataFrame(customPredictions,columns=[\"Ra\",\"Fn\",\"Pw\"])"
   ]
  },
  {
   "cell_type": "code",
   "execution_count": 1518,
   "metadata": {},
   "outputs": [],
   "source": [
    "customOutput[\"Vw\"] = inputOptimize[\"Vw\"]"
   ]
  },
  {
   "cell_type": "code",
   "execution_count": 1519,
   "metadata": {},
   "outputs": [
    {
     "data": {
      "text/html": [
       "<div>\n",
       "<style scoped>\n",
       "    .dataframe tbody tr th:only-of-type {\n",
       "        vertical-align: middle;\n",
       "    }\n",
       "\n",
       "    .dataframe tbody tr th {\n",
       "        vertical-align: top;\n",
       "    }\n",
       "\n",
       "    .dataframe thead th {\n",
       "        text-align: right;\n",
       "    }\n",
       "</style>\n",
       "<table border=\"1\" class=\"dataframe\">\n",
       "  <thead>\n",
       "    <tr style=\"text-align: right;\">\n",
       "      <th></th>\n",
       "      <th>Ra</th>\n",
       "      <th>Fn</th>\n",
       "      <th>Pw</th>\n",
       "      <th>Vw</th>\n",
       "    </tr>\n",
       "  </thead>\n",
       "  <tbody>\n",
       "    <tr>\n",
       "      <th>0</th>\n",
       "      <td>0.885605</td>\n",
       "      <td>44.684059</td>\n",
       "      <td>208.940201</td>\n",
       "      <td>2.9</td>\n",
       "    </tr>\n",
       "    <tr>\n",
       "      <th>1</th>\n",
       "      <td>0.885801</td>\n",
       "      <td>45.546432</td>\n",
       "      <td>213.016998</td>\n",
       "      <td>2.9</td>\n",
       "    </tr>\n",
       "    <tr>\n",
       "      <th>2</th>\n",
       "      <td>0.885996</td>\n",
       "      <td>46.408791</td>\n",
       "      <td>217.093750</td>\n",
       "      <td>2.9</td>\n",
       "    </tr>\n",
       "    <tr>\n",
       "      <th>3</th>\n",
       "      <td>0.886191</td>\n",
       "      <td>47.271160</td>\n",
       "      <td>221.170532</td>\n",
       "      <td>2.9</td>\n",
       "    </tr>\n",
       "    <tr>\n",
       "      <th>4</th>\n",
       "      <td>0.886385</td>\n",
       "      <td>48.133530</td>\n",
       "      <td>225.247299</td>\n",
       "      <td>2.9</td>\n",
       "    </tr>\n",
       "    <tr>\n",
       "      <th>...</th>\n",
       "      <td>...</td>\n",
       "      <td>...</td>\n",
       "      <td>...</td>\n",
       "      <td>...</td>\n",
       "    </tr>\n",
       "    <tr>\n",
       "      <th>20731</th>\n",
       "      <td>0.792865</td>\n",
       "      <td>54.675674</td>\n",
       "      <td>255.868225</td>\n",
       "      <td>6.9</td>\n",
       "    </tr>\n",
       "    <tr>\n",
       "      <th>20732</th>\n",
       "      <td>0.789668</td>\n",
       "      <td>55.633724</td>\n",
       "      <td>260.380707</td>\n",
       "      <td>6.9</td>\n",
       "    </tr>\n",
       "    <tr>\n",
       "      <th>20733</th>\n",
       "      <td>0.786476</td>\n",
       "      <td>56.591759</td>\n",
       "      <td>264.893127</td>\n",
       "      <td>6.9</td>\n",
       "    </tr>\n",
       "    <tr>\n",
       "      <th>20734</th>\n",
       "      <td>0.783282</td>\n",
       "      <td>57.549801</td>\n",
       "      <td>269.405579</td>\n",
       "      <td>6.9</td>\n",
       "    </tr>\n",
       "    <tr>\n",
       "      <th>20735</th>\n",
       "      <td>0.780087</td>\n",
       "      <td>58.507847</td>\n",
       "      <td>273.918030</td>\n",
       "      <td>6.9</td>\n",
       "    </tr>\n",
       "  </tbody>\n",
       "</table>\n",
       "<p>20736 rows × 4 columns</p>\n",
       "</div>"
      ],
      "text/plain": [
       "             Ra         Fn          Pw   Vw\n",
       "0      0.885605  44.684059  208.940201  2.9\n",
       "1      0.885801  45.546432  213.016998  2.9\n",
       "2      0.885996  46.408791  217.093750  2.9\n",
       "3      0.886191  47.271160  221.170532  2.9\n",
       "4      0.886385  48.133530  225.247299  2.9\n",
       "...         ...        ...         ...  ...\n",
       "20731  0.792865  54.675674  255.868225  6.9\n",
       "20732  0.789668  55.633724  260.380707  6.9\n",
       "20733  0.786476  56.591759  264.893127  6.9\n",
       "20734  0.783282  57.549801  269.405579  6.9\n",
       "20735  0.780087  58.507847  273.918030  6.9\n",
       "\n",
       "[20736 rows x 4 columns]"
      ]
     },
     "execution_count": 1519,
     "metadata": {},
     "output_type": "execute_result"
    }
   ],
   "source": [
    "customOutput"
   ]
  },
  {
   "cell_type": "code",
   "execution_count": 1520,
   "metadata": {},
   "outputs": [],
   "source": [
    "customOutput[\"MRR\"] = inputOptimize[\"d\"]*inputOptimize[\"Vw\"]"
   ]
  },
  {
   "cell_type": "code",
   "execution_count": 1521,
   "metadata": {},
   "outputs": [],
   "source": [
    "customOutput = customOutput.drop(\"Vw\",axis=1)"
   ]
  },
  {
   "cell_type": "code",
   "execution_count": 1522,
   "metadata": {},
   "outputs": [
    {
     "data": {
      "text/html": [
       "<div>\n",
       "<style scoped>\n",
       "    .dataframe tbody tr th:only-of-type {\n",
       "        vertical-align: middle;\n",
       "    }\n",
       "\n",
       "    .dataframe tbody tr th {\n",
       "        vertical-align: top;\n",
       "    }\n",
       "\n",
       "    .dataframe thead th {\n",
       "        text-align: right;\n",
       "    }\n",
       "</style>\n",
       "<table border=\"1\" class=\"dataframe\">\n",
       "  <thead>\n",
       "    <tr style=\"text-align: right;\">\n",
       "      <th></th>\n",
       "      <th>Ra</th>\n",
       "      <th>Fn</th>\n",
       "      <th>Pw</th>\n",
       "      <th>MRR</th>\n",
       "    </tr>\n",
       "  </thead>\n",
       "  <tbody>\n",
       "    <tr>\n",
       "      <th>0</th>\n",
       "      <td>0.885605</td>\n",
       "      <td>44.684059</td>\n",
       "      <td>208.940201</td>\n",
       "      <td>4.263000</td>\n",
       "    </tr>\n",
       "    <tr>\n",
       "      <th>1</th>\n",
       "      <td>0.885801</td>\n",
       "      <td>45.546432</td>\n",
       "      <td>213.016998</td>\n",
       "      <td>4.405478</td>\n",
       "    </tr>\n",
       "    <tr>\n",
       "      <th>2</th>\n",
       "      <td>0.885996</td>\n",
       "      <td>46.408791</td>\n",
       "      <td>217.093750</td>\n",
       "      <td>4.547957</td>\n",
       "    </tr>\n",
       "    <tr>\n",
       "      <th>3</th>\n",
       "      <td>0.886191</td>\n",
       "      <td>47.271160</td>\n",
       "      <td>221.170532</td>\n",
       "      <td>4.690435</td>\n",
       "    </tr>\n",
       "    <tr>\n",
       "      <th>4</th>\n",
       "      <td>0.886385</td>\n",
       "      <td>48.133530</td>\n",
       "      <td>225.247299</td>\n",
       "      <td>4.832913</td>\n",
       "    </tr>\n",
       "    <tr>\n",
       "      <th>...</th>\n",
       "      <td>...</td>\n",
       "      <td>...</td>\n",
       "      <td>...</td>\n",
       "      <td>...</td>\n",
       "    </tr>\n",
       "    <tr>\n",
       "      <th>20731</th>\n",
       "      <td>0.792865</td>\n",
       "      <td>54.675674</td>\n",
       "      <td>255.868225</td>\n",
       "      <td>16.584000</td>\n",
       "    </tr>\n",
       "    <tr>\n",
       "      <th>20732</th>\n",
       "      <td>0.789668</td>\n",
       "      <td>55.633724</td>\n",
       "      <td>260.380707</td>\n",
       "      <td>16.923000</td>\n",
       "    </tr>\n",
       "    <tr>\n",
       "      <th>20733</th>\n",
       "      <td>0.786476</td>\n",
       "      <td>56.591759</td>\n",
       "      <td>264.893127</td>\n",
       "      <td>17.262000</td>\n",
       "    </tr>\n",
       "    <tr>\n",
       "      <th>20734</th>\n",
       "      <td>0.783282</td>\n",
       "      <td>57.549801</td>\n",
       "      <td>269.405579</td>\n",
       "      <td>17.601000</td>\n",
       "    </tr>\n",
       "    <tr>\n",
       "      <th>20735</th>\n",
       "      <td>0.780087</td>\n",
       "      <td>58.507847</td>\n",
       "      <td>273.918030</td>\n",
       "      <td>17.940000</td>\n",
       "    </tr>\n",
       "  </tbody>\n",
       "</table>\n",
       "<p>20736 rows × 4 columns</p>\n",
       "</div>"
      ],
      "text/plain": [
       "             Ra         Fn          Pw        MRR\n",
       "0      0.885605  44.684059  208.940201   4.263000\n",
       "1      0.885801  45.546432  213.016998   4.405478\n",
       "2      0.885996  46.408791  217.093750   4.547957\n",
       "3      0.886191  47.271160  221.170532   4.690435\n",
       "4      0.886385  48.133530  225.247299   4.832913\n",
       "...         ...        ...         ...        ...\n",
       "20731  0.792865  54.675674  255.868225  16.584000\n",
       "20732  0.789668  55.633724  260.380707  16.923000\n",
       "20733  0.786476  56.591759  264.893127  17.262000\n",
       "20734  0.783282  57.549801  269.405579  17.601000\n",
       "20735  0.780087  58.507847  273.918030  17.940000\n",
       "\n",
       "[20736 rows x 4 columns]"
      ]
     },
     "execution_count": 1522,
     "metadata": {},
     "output_type": "execute_result"
    }
   ],
   "source": [
    "customOutput"
   ]
  },
  {
   "cell_type": "code",
   "execution_count": 1523,
   "metadata": {},
   "outputs": [],
   "source": [
    "completeOptimizationTable = pd.concat([inputOptimize,customOutput],axis = 1)"
   ]
  },
  {
   "cell_type": "code",
   "execution_count": 1524,
   "metadata": {},
   "outputs": [
    {
     "data": {
      "text/html": [
       "<div>\n",
       "<style scoped>\n",
       "    .dataframe tbody tr th:only-of-type {\n",
       "        vertical-align: middle;\n",
       "    }\n",
       "\n",
       "    .dataframe tbody tr th {\n",
       "        vertical-align: top;\n",
       "    }\n",
       "\n",
       "    .dataframe thead th {\n",
       "        text-align: right;\n",
       "    }\n",
       "</style>\n",
       "<table border=\"1\" class=\"dataframe\">\n",
       "  <thead>\n",
       "    <tr style=\"text-align: right;\">\n",
       "      <th></th>\n",
       "      <th>B</th>\n",
       "      <th>m</th>\n",
       "      <th>c</th>\n",
       "      <th>Vw</th>\n",
       "      <th>d</th>\n",
       "      <th>Ra</th>\n",
       "      <th>Fn</th>\n",
       "      <th>Pw</th>\n",
       "      <th>MRR</th>\n",
       "    </tr>\n",
       "  </thead>\n",
       "  <tbody>\n",
       "    <tr>\n",
       "      <th>0</th>\n",
       "      <td>0.0</td>\n",
       "      <td>80.0</td>\n",
       "      <td>50.0</td>\n",
       "      <td>2.9</td>\n",
       "      <td>1.470000</td>\n",
       "      <td>0.885605</td>\n",
       "      <td>44.684059</td>\n",
       "      <td>208.940201</td>\n",
       "      <td>4.263000</td>\n",
       "    </tr>\n",
       "    <tr>\n",
       "      <th>1</th>\n",
       "      <td>0.0</td>\n",
       "      <td>80.0</td>\n",
       "      <td>50.0</td>\n",
       "      <td>2.9</td>\n",
       "      <td>1.519130</td>\n",
       "      <td>0.885801</td>\n",
       "      <td>45.546432</td>\n",
       "      <td>213.016998</td>\n",
       "      <td>4.405478</td>\n",
       "    </tr>\n",
       "    <tr>\n",
       "      <th>2</th>\n",
       "      <td>0.0</td>\n",
       "      <td>80.0</td>\n",
       "      <td>50.0</td>\n",
       "      <td>2.9</td>\n",
       "      <td>1.568261</td>\n",
       "      <td>0.885996</td>\n",
       "      <td>46.408791</td>\n",
       "      <td>217.093750</td>\n",
       "      <td>4.547957</td>\n",
       "    </tr>\n",
       "    <tr>\n",
       "      <th>3</th>\n",
       "      <td>0.0</td>\n",
       "      <td>80.0</td>\n",
       "      <td>50.0</td>\n",
       "      <td>2.9</td>\n",
       "      <td>1.617391</td>\n",
       "      <td>0.886191</td>\n",
       "      <td>47.271160</td>\n",
       "      <td>221.170532</td>\n",
       "      <td>4.690435</td>\n",
       "    </tr>\n",
       "    <tr>\n",
       "      <th>4</th>\n",
       "      <td>0.0</td>\n",
       "      <td>80.0</td>\n",
       "      <td>50.0</td>\n",
       "      <td>2.9</td>\n",
       "      <td>1.666522</td>\n",
       "      <td>0.886385</td>\n",
       "      <td>48.133530</td>\n",
       "      <td>225.247299</td>\n",
       "      <td>4.832913</td>\n",
       "    </tr>\n",
       "    <tr>\n",
       "      <th>...</th>\n",
       "      <td>...</td>\n",
       "      <td>...</td>\n",
       "      <td>...</td>\n",
       "      <td>...</td>\n",
       "      <td>...</td>\n",
       "      <td>...</td>\n",
       "      <td>...</td>\n",
       "      <td>...</td>\n",
       "      <td>...</td>\n",
       "    </tr>\n",
       "    <tr>\n",
       "      <th>20731</th>\n",
       "      <td>1.0</td>\n",
       "      <td>180.0</td>\n",
       "      <td>100.0</td>\n",
       "      <td>6.9</td>\n",
       "      <td>2.403478</td>\n",
       "      <td>0.792865</td>\n",
       "      <td>54.675674</td>\n",
       "      <td>255.868225</td>\n",
       "      <td>16.584000</td>\n",
       "    </tr>\n",
       "    <tr>\n",
       "      <th>20732</th>\n",
       "      <td>1.0</td>\n",
       "      <td>180.0</td>\n",
       "      <td>100.0</td>\n",
       "      <td>6.9</td>\n",
       "      <td>2.452609</td>\n",
       "      <td>0.789668</td>\n",
       "      <td>55.633724</td>\n",
       "      <td>260.380707</td>\n",
       "      <td>16.923000</td>\n",
       "    </tr>\n",
       "    <tr>\n",
       "      <th>20733</th>\n",
       "      <td>1.0</td>\n",
       "      <td>180.0</td>\n",
       "      <td>100.0</td>\n",
       "      <td>6.9</td>\n",
       "      <td>2.501739</td>\n",
       "      <td>0.786476</td>\n",
       "      <td>56.591759</td>\n",
       "      <td>264.893127</td>\n",
       "      <td>17.262000</td>\n",
       "    </tr>\n",
       "    <tr>\n",
       "      <th>20734</th>\n",
       "      <td>1.0</td>\n",
       "      <td>180.0</td>\n",
       "      <td>100.0</td>\n",
       "      <td>6.9</td>\n",
       "      <td>2.550870</td>\n",
       "      <td>0.783282</td>\n",
       "      <td>57.549801</td>\n",
       "      <td>269.405579</td>\n",
       "      <td>17.601000</td>\n",
       "    </tr>\n",
       "    <tr>\n",
       "      <th>20735</th>\n",
       "      <td>1.0</td>\n",
       "      <td>180.0</td>\n",
       "      <td>100.0</td>\n",
       "      <td>6.9</td>\n",
       "      <td>2.600000</td>\n",
       "      <td>0.780087</td>\n",
       "      <td>58.507847</td>\n",
       "      <td>273.918030</td>\n",
       "      <td>17.940000</td>\n",
       "    </tr>\n",
       "  </tbody>\n",
       "</table>\n",
       "<p>20736 rows × 9 columns</p>\n",
       "</div>"
      ],
      "text/plain": [
       "         B      m      c   Vw         d        Ra         Fn          Pw  \\\n",
       "0      0.0   80.0   50.0  2.9  1.470000  0.885605  44.684059  208.940201   \n",
       "1      0.0   80.0   50.0  2.9  1.519130  0.885801  45.546432  213.016998   \n",
       "2      0.0   80.0   50.0  2.9  1.568261  0.885996  46.408791  217.093750   \n",
       "3      0.0   80.0   50.0  2.9  1.617391  0.886191  47.271160  221.170532   \n",
       "4      0.0   80.0   50.0  2.9  1.666522  0.886385  48.133530  225.247299   \n",
       "...    ...    ...    ...  ...       ...       ...        ...         ...   \n",
       "20731  1.0  180.0  100.0  6.9  2.403478  0.792865  54.675674  255.868225   \n",
       "20732  1.0  180.0  100.0  6.9  2.452609  0.789668  55.633724  260.380707   \n",
       "20733  1.0  180.0  100.0  6.9  2.501739  0.786476  56.591759  264.893127   \n",
       "20734  1.0  180.0  100.0  6.9  2.550870  0.783282  57.549801  269.405579   \n",
       "20735  1.0  180.0  100.0  6.9  2.600000  0.780087  58.507847  273.918030   \n",
       "\n",
       "             MRR  \n",
       "0       4.263000  \n",
       "1       4.405478  \n",
       "2       4.547957  \n",
       "3       4.690435  \n",
       "4       4.832913  \n",
       "...          ...  \n",
       "20731  16.584000  \n",
       "20732  16.923000  \n",
       "20733  17.262000  \n",
       "20734  17.601000  \n",
       "20735  17.940000  \n",
       "\n",
       "[20736 rows x 9 columns]"
      ]
     },
     "execution_count": 1524,
     "metadata": {},
     "output_type": "execute_result"
    }
   ],
   "source": [
    "completeOptimizationTable"
   ]
  },
  {
   "cell_type": "code",
   "execution_count": 1525,
   "metadata": {},
   "outputs": [
    {
     "data": {
      "text/plain": [
       "array([1.47      , 1.51913043, 1.56826087, 1.6173913 , 1.66652174,\n",
       "       1.71565217, 1.76478261, 1.81391304, 1.86304348, 1.91217391,\n",
       "       1.96130435, 2.01043478, 2.05956522, 2.10869565, 2.15782609,\n",
       "       2.20695652, 2.25608696, 2.30521739, 2.35434783, 2.40347826,\n",
       "       2.4526087 , 2.50173913, 2.55086957, 2.6       ])"
      ]
     },
     "execution_count": 1525,
     "metadata": {},
     "output_type": "execute_result"
    }
   ],
   "source": [
    "d_range"
   ]
  },
  {
   "cell_type": "code",
   "execution_count": 1526,
   "metadata": {},
   "outputs": [],
   "source": [
    "completeOptimizationTable[\"F\"] = -1*completeOptimizationTable[\"MRR\"]+3*completeOptimizationTable[\"Ra\"]+6*completeOptimizationTable[\"Fn\"]+6*completeOptimizationTable[\"Pw\"]"
   ]
  },
  {
   "cell_type": "code",
   "execution_count": 1527,
   "metadata": {},
   "outputs": [
    {
     "data": {
      "text/plain": [
       "12096"
      ]
     },
     "execution_count": 1527,
     "metadata": {},
     "output_type": "execute_result"
    }
   ],
   "source": [
    "completeOptimizationTable[\"F\"].idxmin()"
   ]
  },
  {
   "cell_type": "code",
   "execution_count": 1528,
   "metadata": {},
   "outputs": [],
   "source": [
    "result = (completeOptimizationTable.iloc[completeOptimizationTable[\"F\"].idxmin()])"
   ]
  },
  {
   "cell_type": "code",
   "execution_count": 1529,
   "metadata": {},
   "outputs": [
    {
     "data": {
      "text/plain": [
       "B        1.000000\n",
       "m      100.000000\n",
       "c       50.000000\n",
       "Vw       2.900000\n",
       "d        1.470000\n",
       "Ra       0.694278\n",
       "Fn      18.879021\n",
       "Pw      86.314484\n",
       "MRR      4.263000\n",
       "F      628.980859\n",
       "Name: 12096, dtype: float64"
      ]
     },
     "execution_count": 1529,
     "metadata": {},
     "output_type": "execute_result"
    }
   ],
   "source": [
    "researchPaperF = 1172.76\n",
    "result"
   ]
  },
  {
   "cell_type": "code",
   "execution_count": 1530,
   "metadata": {},
   "outputs": [],
   "source": [
    "comparision = pd.DataFrame(data=result.values,index=[\"B\",\"m\",\"c\",\"Vw\",\"d\",\"Ra\",\"Fn\",\"Pw\",\"MRR\",\"F\"],columns=[\"My result\"])"
   ]
  },
  {
   "cell_type": "code",
   "execution_count": 1531,
   "metadata": {},
   "outputs": [
    {
     "data": {
      "text/html": [
       "<div>\n",
       "<style scoped>\n",
       "    .dataframe tbody tr th:only-of-type {\n",
       "        vertical-align: middle;\n",
       "    }\n",
       "\n",
       "    .dataframe tbody tr th {\n",
       "        vertical-align: top;\n",
       "    }\n",
       "\n",
       "    .dataframe thead th {\n",
       "        text-align: right;\n",
       "    }\n",
       "</style>\n",
       "<table border=\"1\" class=\"dataframe\">\n",
       "  <thead>\n",
       "    <tr style=\"text-align: right;\">\n",
       "      <th></th>\n",
       "      <th>My result</th>\n",
       "    </tr>\n",
       "  </thead>\n",
       "  <tbody>\n",
       "    <tr>\n",
       "      <th>B</th>\n",
       "      <td>1.000000</td>\n",
       "    </tr>\n",
       "    <tr>\n",
       "      <th>m</th>\n",
       "      <td>100.000000</td>\n",
       "    </tr>\n",
       "    <tr>\n",
       "      <th>c</th>\n",
       "      <td>50.000000</td>\n",
       "    </tr>\n",
       "    <tr>\n",
       "      <th>Vw</th>\n",
       "      <td>2.900000</td>\n",
       "    </tr>\n",
       "    <tr>\n",
       "      <th>d</th>\n",
       "      <td>1.470000</td>\n",
       "    </tr>\n",
       "    <tr>\n",
       "      <th>Ra</th>\n",
       "      <td>0.694278</td>\n",
       "    </tr>\n",
       "    <tr>\n",
       "      <th>Fn</th>\n",
       "      <td>18.879021</td>\n",
       "    </tr>\n",
       "    <tr>\n",
       "      <th>Pw</th>\n",
       "      <td>86.314484</td>\n",
       "    </tr>\n",
       "    <tr>\n",
       "      <th>MRR</th>\n",
       "      <td>4.263000</td>\n",
       "    </tr>\n",
       "    <tr>\n",
       "      <th>F</th>\n",
       "      <td>628.980859</td>\n",
       "    </tr>\n",
       "  </tbody>\n",
       "</table>\n",
       "</div>"
      ],
      "text/plain": [
       "      My result\n",
       "B      1.000000\n",
       "m    100.000000\n",
       "c     50.000000\n",
       "Vw     2.900000\n",
       "d      1.470000\n",
       "Ra     0.694278\n",
       "Fn    18.879021\n",
       "Pw    86.314484\n",
       "MRR    4.263000\n",
       "F    628.980859"
      ]
     },
     "execution_count": 1531,
     "metadata": {},
     "output_type": "execute_result"
    }
   ],
   "source": [
    "comparision"
   ]
  },
  {
   "cell_type": "code",
   "execution_count": 1532,
   "metadata": {},
   "outputs": [],
   "source": [
    "comparision[\"Research paper results\"] = np.array([1,180,50,6.9,1.6,0.81,31.9,166,11.04,1172.76])"
   ]
  },
  {
   "cell_type": "code",
   "execution_count": 1533,
   "metadata": {},
   "outputs": [
    {
     "data": {
      "text/html": [
       "<div>\n",
       "<style scoped>\n",
       "    .dataframe tbody tr th:only-of-type {\n",
       "        vertical-align: middle;\n",
       "    }\n",
       "\n",
       "    .dataframe tbody tr th {\n",
       "        vertical-align: top;\n",
       "    }\n",
       "\n",
       "    .dataframe thead th {\n",
       "        text-align: right;\n",
       "    }\n",
       "</style>\n",
       "<table border=\"1\" class=\"dataframe\">\n",
       "  <thead>\n",
       "    <tr style=\"text-align: right;\">\n",
       "      <th></th>\n",
       "      <th>My result</th>\n",
       "      <th>Research paper results</th>\n",
       "    </tr>\n",
       "  </thead>\n",
       "  <tbody>\n",
       "    <tr>\n",
       "      <th>B</th>\n",
       "      <td>1.00</td>\n",
       "      <td>1.00</td>\n",
       "    </tr>\n",
       "    <tr>\n",
       "      <th>m</th>\n",
       "      <td>100.00</td>\n",
       "      <td>180.00</td>\n",
       "    </tr>\n",
       "    <tr>\n",
       "      <th>c</th>\n",
       "      <td>50.00</td>\n",
       "      <td>50.00</td>\n",
       "    </tr>\n",
       "    <tr>\n",
       "      <th>Vw</th>\n",
       "      <td>2.90</td>\n",
       "      <td>6.90</td>\n",
       "    </tr>\n",
       "    <tr>\n",
       "      <th>d</th>\n",
       "      <td>1.47</td>\n",
       "      <td>1.60</td>\n",
       "    </tr>\n",
       "    <tr>\n",
       "      <th>Ra</th>\n",
       "      <td>0.69</td>\n",
       "      <td>0.81</td>\n",
       "    </tr>\n",
       "    <tr>\n",
       "      <th>Fn</th>\n",
       "      <td>18.88</td>\n",
       "      <td>31.90</td>\n",
       "    </tr>\n",
       "    <tr>\n",
       "      <th>Pw</th>\n",
       "      <td>86.31</td>\n",
       "      <td>166.00</td>\n",
       "    </tr>\n",
       "    <tr>\n",
       "      <th>MRR</th>\n",
       "      <td>4.26</td>\n",
       "      <td>11.04</td>\n",
       "    </tr>\n",
       "    <tr>\n",
       "      <th>F</th>\n",
       "      <td>628.98</td>\n",
       "      <td>1172.76</td>\n",
       "    </tr>\n",
       "  </tbody>\n",
       "</table>\n",
       "</div>"
      ],
      "text/plain": [
       "     My result  Research paper results\n",
       "B         1.00                    1.00\n",
       "m       100.00                  180.00\n",
       "c        50.00                   50.00\n",
       "Vw        2.90                    6.90\n",
       "d         1.47                    1.60\n",
       "Ra        0.69                    0.81\n",
       "Fn       18.88                   31.90\n",
       "Pw       86.31                  166.00\n",
       "MRR       4.26                   11.04\n",
       "F       628.98                 1172.76"
      ]
     },
     "execution_count": 1533,
     "metadata": {},
     "output_type": "execute_result"
    }
   ],
   "source": [
    "comparision.round(2)"
   ]
  },
  {
   "cell_type": "code",
   "execution_count": 1534,
   "metadata": {},
   "outputs": [
    {
     "data": {
      "text/html": [
       "<div>\n",
       "<style scoped>\n",
       "    .dataframe tbody tr th:only-of-type {\n",
       "        vertical-align: middle;\n",
       "    }\n",
       "\n",
       "    .dataframe tbody tr th {\n",
       "        vertical-align: top;\n",
       "    }\n",
       "\n",
       "    .dataframe thead th {\n",
       "        text-align: right;\n",
       "    }\n",
       "</style>\n",
       "<table border=\"1\" class=\"dataframe\">\n",
       "  <thead>\n",
       "    <tr style=\"text-align: right;\">\n",
       "      <th></th>\n",
       "      <th>B</th>\n",
       "      <th>m</th>\n",
       "      <th>c</th>\n",
       "      <th>Vw</th>\n",
       "      <th>d</th>\n",
       "      <th>Ra</th>\n",
       "      <th>Fn</th>\n",
       "      <th>Pw</th>\n",
       "      <th>MRR</th>\n",
       "      <th>F</th>\n",
       "    </tr>\n",
       "  </thead>\n",
       "  <tbody>\n",
       "    <tr>\n",
       "      <th>19174</th>\n",
       "      <td>1.0</td>\n",
       "      <td>180.0</td>\n",
       "      <td>50.0</td>\n",
       "      <td>3.943478</td>\n",
       "      <td>2.550870</td>\n",
       "      <td>0.522787</td>\n",
       "      <td>45.992844</td>\n",
       "      <td>213.605560</td>\n",
       "      <td>10.059299</td>\n",
       "      <td>1549.099424</td>\n",
       "    </tr>\n",
       "    <tr>\n",
       "      <th>19175</th>\n",
       "      <td>1.0</td>\n",
       "      <td>180.0</td>\n",
       "      <td>50.0</td>\n",
       "      <td>3.943478</td>\n",
       "      <td>2.600000</td>\n",
       "      <td>0.520887</td>\n",
       "      <td>46.925629</td>\n",
       "      <td>218.002502</td>\n",
       "      <td>10.253043</td>\n",
       "      <td>1580.878404</td>\n",
       "    </tr>\n",
       "    <tr>\n",
       "      <th>19196</th>\n",
       "      <td>1.0</td>\n",
       "      <td>180.0</td>\n",
       "      <td>50.0</td>\n",
       "      <td>4.117391</td>\n",
       "      <td>2.452609</td>\n",
       "      <td>0.529740</td>\n",
       "      <td>45.320839</td>\n",
       "      <td>210.466385</td>\n",
       "      <td>10.098350</td>\n",
       "      <td>1526.214259</td>\n",
       "    </tr>\n",
       "    <tr>\n",
       "      <th>19197</th>\n",
       "      <td>1.0</td>\n",
       "      <td>180.0</td>\n",
       "      <td>50.0</td>\n",
       "      <td>4.117391</td>\n",
       "      <td>2.501739</td>\n",
       "      <td>0.527840</td>\n",
       "      <td>46.253628</td>\n",
       "      <td>214.863327</td>\n",
       "      <td>10.300639</td>\n",
       "      <td>1557.984572</td>\n",
       "    </tr>\n",
       "    <tr>\n",
       "      <th>19198</th>\n",
       "      <td>1.0</td>\n",
       "      <td>180.0</td>\n",
       "      <td>50.0</td>\n",
       "      <td>4.117391</td>\n",
       "      <td>2.550870</td>\n",
       "      <td>0.525941</td>\n",
       "      <td>47.186417</td>\n",
       "      <td>219.260269</td>\n",
       "      <td>10.502928</td>\n",
       "      <td>1589.755040</td>\n",
       "    </tr>\n",
       "    <tr>\n",
       "      <th>...</th>\n",
       "      <td>...</td>\n",
       "      <td>...</td>\n",
       "      <td>...</td>\n",
       "      <td>...</td>\n",
       "      <td>...</td>\n",
       "      <td>...</td>\n",
       "      <td>...</td>\n",
       "      <td>...</td>\n",
       "      <td>...</td>\n",
       "      <td>...</td>\n",
       "    </tr>\n",
       "    <tr>\n",
       "      <th>19561</th>\n",
       "      <td>1.0</td>\n",
       "      <td>180.0</td>\n",
       "      <td>50.0</td>\n",
       "      <td>6.900000</td>\n",
       "      <td>1.519130</td>\n",
       "      <td>0.616309</td>\n",
       "      <td>46.695126</td>\n",
       "      <td>217.400330</td>\n",
       "      <td>10.482000</td>\n",
       "      <td>1575.939652</td>\n",
       "    </tr>\n",
       "    <tr>\n",
       "      <th>19562</th>\n",
       "      <td>1.0</td>\n",
       "      <td>180.0</td>\n",
       "      <td>50.0</td>\n",
       "      <td>6.900000</td>\n",
       "      <td>1.568261</td>\n",
       "      <td>0.614411</td>\n",
       "      <td>47.627907</td>\n",
       "      <td>221.797272</td>\n",
       "      <td>10.821000</td>\n",
       "      <td>1607.573379</td>\n",
       "    </tr>\n",
       "    <tr>\n",
       "      <th>19563</th>\n",
       "      <td>1.0</td>\n",
       "      <td>180.0</td>\n",
       "      <td>50.0</td>\n",
       "      <td>6.900000</td>\n",
       "      <td>1.617391</td>\n",
       "      <td>0.612512</td>\n",
       "      <td>48.560703</td>\n",
       "      <td>226.194229</td>\n",
       "      <td>11.160000</td>\n",
       "      <td>1639.207168</td>\n",
       "    </tr>\n",
       "    <tr>\n",
       "      <th>19564</th>\n",
       "      <td>1.0</td>\n",
       "      <td>180.0</td>\n",
       "      <td>50.0</td>\n",
       "      <td>6.900000</td>\n",
       "      <td>1.666522</td>\n",
       "      <td>0.610611</td>\n",
       "      <td>49.493488</td>\n",
       "      <td>230.591171</td>\n",
       "      <td>11.499000</td>\n",
       "      <td>1670.840768</td>\n",
       "    </tr>\n",
       "    <tr>\n",
       "      <th>19565</th>\n",
       "      <td>1.0</td>\n",
       "      <td>180.0</td>\n",
       "      <td>50.0</td>\n",
       "      <td>6.900000</td>\n",
       "      <td>1.715652</td>\n",
       "      <td>0.608711</td>\n",
       "      <td>50.426270</td>\n",
       "      <td>234.988113</td>\n",
       "      <td>11.838000</td>\n",
       "      <td>1702.474461</td>\n",
       "    </tr>\n",
       "  </tbody>\n",
       "</table>\n",
       "<p>122 rows × 10 columns</p>\n",
       "</div>"
      ],
      "text/plain": [
       "         B      m     c        Vw         d        Ra         Fn          Pw  \\\n",
       "19174  1.0  180.0  50.0  3.943478  2.550870  0.522787  45.992844  213.605560   \n",
       "19175  1.0  180.0  50.0  3.943478  2.600000  0.520887  46.925629  218.002502   \n",
       "19196  1.0  180.0  50.0  4.117391  2.452609  0.529740  45.320839  210.466385   \n",
       "19197  1.0  180.0  50.0  4.117391  2.501739  0.527840  46.253628  214.863327   \n",
       "19198  1.0  180.0  50.0  4.117391  2.550870  0.525941  47.186417  219.260269   \n",
       "...    ...    ...   ...       ...       ...       ...        ...         ...   \n",
       "19561  1.0  180.0  50.0  6.900000  1.519130  0.616309  46.695126  217.400330   \n",
       "19562  1.0  180.0  50.0  6.900000  1.568261  0.614411  47.627907  221.797272   \n",
       "19563  1.0  180.0  50.0  6.900000  1.617391  0.612512  48.560703  226.194229   \n",
       "19564  1.0  180.0  50.0  6.900000  1.666522  0.610611  49.493488  230.591171   \n",
       "19565  1.0  180.0  50.0  6.900000  1.715652  0.608711  50.426270  234.988113   \n",
       "\n",
       "             MRR            F  \n",
       "19174  10.059299  1549.099424  \n",
       "19175  10.253043  1580.878404  \n",
       "19196  10.098350  1526.214259  \n",
       "19197  10.300639  1557.984572  \n",
       "19198  10.502928  1589.755040  \n",
       "...          ...          ...  \n",
       "19561  10.482000  1575.939652  \n",
       "19562  10.821000  1607.573379  \n",
       "19563  11.160000  1639.207168  \n",
       "19564  11.499000  1670.840768  \n",
       "19565  11.838000  1702.474461  \n",
       "\n",
       "[122 rows x 10 columns]"
      ]
     },
     "execution_count": 1534,
     "metadata": {},
     "output_type": "execute_result"
    }
   ],
   "source": [
    "completeOptimizationTable[(completeOptimizationTable[\"MRR\"]>10) & (completeOptimizationTable[\"MRR\"]<12) & (completeOptimizationTable[\"B\"]==1) & (completeOptimizationTable[\"m\"]==180) & (completeOptimizationTable[\"c\"]==50)]"
   ]
  },
  {
   "cell_type": "code",
   "execution_count": null,
   "metadata": {},
   "outputs": [],
   "source": []
  }
 ],
 "metadata": {
  "kernelspec": {
   "display_name": "Python 3",
   "language": "python",
   "name": "python3"
  },
  "language_info": {
   "codemirror_mode": {
    "name": "ipython",
    "version": 3
   },
   "file_extension": ".py",
   "mimetype": "text/x-python",
   "name": "python",
   "nbconvert_exporter": "python",
   "pygments_lexer": "ipython3",
   "version": "3.7.9"
  }
 },
 "nbformat": 4,
 "nbformat_minor": 4
}
